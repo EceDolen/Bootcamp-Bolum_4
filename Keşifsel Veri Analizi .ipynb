{
 "cells": [
  {
   "cell_type": "markdown",
   "metadata": {},
   "source": [
    "1. Keşifsel Veri Analizinin amacı nedir?\n",
    "\n",
    "Verinin kullanilabilirliginin verilerin temizlenerek belirlenmesi ve bu surecte veri yapisinin anlasilmasidir. Yapisi bilinen veriler dogru modelleme ile dogru sonuclara ulastirilir. "
   ]
  },
  {
   "cell_type": "markdown",
   "metadata": {},
   "source": [
    "2. Bir e-ticaret şirketinin ürünlerine ait müşteri yorumlarını içeren bir veri kümesi üzerinde çalıştığınızı farz edin. Şirketin web sitesi aracılığıyla toplanan müşteri yorumları içeriğinin olumlu ya da olumsuz olmasına göre 1 ila 5 arasında derecelendirilmiştir. \n"
   ]
  },
  {
   "cell_type": "markdown",
   "metadata": {},
   "source": [
    "#a. Bu ham veride ne tür problemlerle karşılaşmayı beklersiniz?\n",
    "\n",
    "Kisiler urunden memnun olsalar da derecelendirmeyi musteri servisi, urunun kargo sureci vs gibi nedenlerle mutsuz olduklari durumu degerlendirmeye almis ve gercegi tam yansitmayan yanitlar vermis olabilirler. \n",
    "\n",
    "Musteriler ustunkoru / dusunmeden yanitlar vermis olabilirler. \n",
    "\n",
    "Musteri urunden fayda saglamis olsa da siparisin uzerinden uzunca bir zaman gecmis ve musteri gercek hislerle degerlendirme yapmamis olabilir. \n",
    "\n",
    "Musteri urunu almis ancak kullanmamis olabilirler. "
   ]
  },
  {
   "cell_type": "markdown",
   "metadata": {},
   "source": [
    "#b. Göreviniz müşterilerin yorumlarının olumlu yada olumsuz olduğunu ortaya çıkaran özellikleri belirlemek olsaydı nasıl bir yaklaşımda bulunur ve bunun için hangi metodları kullanırdınız?\n",
    "\n",
    "Ayni urun grubuna ait musteri grubu, ayni cinsiyet grubunu yas gruplarina bolmek gibi demografik musteri gruplarina ayrilmis degerlendirmeler. \n",
    "\n",
    "Ayni donemde satilmis uunlerin degerlendirmelerini kullanmak. \n",
    "\n",
    "Belli bir urun sayisi uzerinde alisveris yapan musterilerden degerlendirme almak such as 5 ya da uzeri urun. \n",
    "\n",
    "Siniflandirip kumeleyip bu degerleri iliskilendirebiliriz. "
   ]
  },
  {
   "cell_type": "markdown",
   "metadata": {},
   "source": [
    "#c. Ham veriden çıkarılabilecek yararlı özellikler neler olabilir? Bu verilere nasıl ulaşılabilirsiniz ve bunların faydalı olup olmayacağını nasıl anlayabilirsiniz?\n",
    " \n",
    "Islenmemis verileri istedigimiz formata getirebiliriz. Bu verilere anketler yoluyla ulasabiliriz. \n",
    "\n",
    "Verilerin dogruluguna bakarak faydali olup olmamasina bakabiliriz. Mesela Anketi ayni urunler icin tekrarlanarak dogrulu arttirilabilir.Anketler %95 guven duzeyinde tekrarlanarak, t/z testi ve tek yonlu varyans analizi ile anlamlanabilir. \n",
    "Bagimli degisken kullaniyorsak bagimsiz degisken ile iliskisine bakilarak degerlendirme yeniden analis edilebilir ( Kis mevsiminde satilan yunlu kiyafetler ya da yaz mevsiminde satilan gunes kremleri) \n",
    "\n",
    "Sonuclar ile olusturulan urun tavsiyeleri belirlenebilir boylece ayni yas ve cinsiyet grubunun urundeki pozitif sonuclari bir sonraki alisverislerinde sistem tarafindan oneri olarak getirilebilir. \n",
    "Degerlendirmesi yuksek urun ve urun cesitlerine agirlik verilebilir ve benzer urunlerle desteklenebilir. \n",
    "\n"
   ]
  },
  {
   "cell_type": "code",
   "execution_count": null,
   "metadata": {},
   "outputs": [],
   "source": []
  }
 ],
 "metadata": {
  "kernelspec": {
   "display_name": "Python 3",
   "language": "python",
   "name": "python3"
  },
  "language_info": {
   "codemirror_mode": {
    "name": "ipython",
    "version": 3
   },
   "file_extension": ".py",
   "mimetype": "text/x-python",
   "name": "python",
   "nbconvert_exporter": "python",
   "pygments_lexer": "ipython3",
   "version": "3.7.2"
  }
 },
 "nbformat": 4,
 "nbformat_minor": 2
}
