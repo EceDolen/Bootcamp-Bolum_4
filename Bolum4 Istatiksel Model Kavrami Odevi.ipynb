{
 "cells": [
  {
   "cell_type": "markdown",
   "metadata": {},
   "source": [
    "1. Bozuk para atmanın sonucunu modellemeye çalışın. Modelinize, sonucu açıklarken önemli olduğunu düşündüğünüz özellikleri dahil edin. Mentorünüzle modelinize çok fazla özellik eklemenin artıları ve eksileri hakkında tartışın."
   ]
  },
  {
   "cell_type": "markdown",
   "metadata": {},
   "source": [
    "#Böyle bir modelde ne tür özellikler yer almalı, Hangi özellikler daha önemli?\n",
    "Atilan paranin tarafsiz olup olmadigi, paranin guclu bir sekilde atilip atilmadigi ya da her defasinda ayni gucte atilip atilmadigi, uretimde yasanacak kusurlarin sapmalari dogurmasi, hangi maddeden yapildigi, agirligi, buyuklugu, direk dustugu ya da spin yaparak dusmesi, tura tarafinin uzerinde ne kadar islemeli desen oldugu.\n"
   ]
  },
  {
   "cell_type": "markdown",
   "metadata": {},
   "source": []
  },
  {
   "cell_type": "markdown",
   "metadata": {},
   "source": [
    "2. Netflix'i daha önce kullandıysanız, sizin izlemeniz için bazı önerilerde bulunduğunu fark etmiş olmalısınız. Veri biliminde bu, tavsiye sistemleri olarak adlandırılan bir örnektir. Netflix'in bu teknik olmayan blog yazısını öneri sistemlerini nasıl modelledikleri hakkında okuyun. Ardından, tavsiye motorlarında kullandıkları özellikleri türetin ve bu modele dahil edilebilecek başka özellikleri tartışın."
   ]
  },
  {
   "cell_type": "markdown",
   "metadata": {},
   "source": [
    "Netflix, izleme gecmisi, basliklarin degerlendirilmesi, gun icinde hangi saat dilimde urunun izlendigi, hangi cihaz  ile izlendigi ve ne kadar sure boyunca izlendigi verilerini toplayarak ile benzer onerileri kullaniciya sunar. \n",
    "\n",
    "Buna ilaveten urunlerin genel kategorze edilmesine ilaveten her urun icin mikro bir calisma ile urunun verdigi duygu durumlari ile ilgili bir skala olusturup (51 saniye siddet/25. saniye komedi/55. saniye duygusal, vb) izlenen urun eger sonlandirilmadan kapatildiysa ve geri donus yapilmadiysa ve benzer anda diger urunlerde bu sekilde sonlandirildiysa, onerilerden urunun kapatildigi saniyedeki duygu durumunu iceren diger urunlerin tavsiye ekraninda belirmemesi. Ayni fikirle hareketle en cok duygu durumunu iceren benzer filmlerin tavsiye edilmesi. \n",
    "\n",
    "Bu konuya alternatif bir cozum olarak, urunun izlenme kaybindansa istenmeyen goruntulerin urunden cikarilarak izlenmesi olabilir. Msela bir aile filminin icinde gecen dovus sahnelerinin/uygunsuz konusmalarin izleyici tercihi(yas skalasi uygulanabilir) ile kesilmesi/atlatilarak gecilmesi. \n",
    "\n",
    "Filmlerin cocuk kullanicisi ile dahi girisinde yas grubuna ayrilmasi suan mumkun degil. Izleyicinin tercih ettigi yas grubundan tavsiye demetleri daha saglikli sonuc v"
   ]
  }
 ],
 "metadata": {
  "kernelspec": {
   "display_name": "Python 3",
   "language": "python",
   "name": "python3"
  },
  "language_info": {
   "codemirror_mode": {
    "name": "ipython",
    "version": 3
   },
   "file_extension": ".py",
   "mimetype": "text/x-python",
   "name": "python",
   "nbconvert_exporter": "python",
   "pygments_lexer": "ipython3",
   "version": "3.7.2"
  }
 },
 "nbformat": 4,
 "nbformat_minor": 2
}
