{
 "cells": [
  {
   "cell_type": "code",
   "execution_count": 1,
   "metadata": {},
   "outputs": [],
   "source": [
    "import matplotlib.pyplot as plt\n",
    "import seaborn as sns\n",
    "import numpy as np\n",
    "import pandas as pd\n",
    "import scipy.stats as stats\n",
    "from scipy.stats.mstats import winsorize\n",
    "import warnings\n",
    "\n",
    "warnings.filterwarnings('ignore')\n",
    "sns.set(style=\"whitegrid\")\n",
    "\n",
    "plt.rcParams['figure.dpi'] = 100\n",
    "plt.rcParams['figure.figsize'] = (8,5.5)"
   ]
  },
  {
   "cell_type": "markdown",
   "metadata": {},
   "source": [
    "1. Tek değişkenli analiz yaparak verileri yorumlayın, önemli gördüğünüz noktaları belirtin.\n",
    "\n",
    "2. Bir eyaleti ele alın (ör: California) ve toplam gelirleri ile toplam harcamalarının yıllara göre değişiminin doğru grafiğini çizin. Bu iki değişken yıllara göre değişim göstermekte midir? Zirve ve dip yaptığı yıllar var mı?\n",
    "\n",
    "3. Seçtiğiniz eyalette, öğrenciler hangi derste daha başarılı? Matematik mi yoksa okuma mı?\n",
    "\n",
    "4. Matematik ve okuma notlarının dağılımı nedir?\n",
    "\n",
    "5. Metematik ve okuma notlarında birçok eksik değer olduğunu farketmişsinizdir. Eksik değerleri ortalama, medyan ve enterpolasyon ile tamamlayın. Bu tekniklerin notların dağılımı üzerindeki etkisini karşılaştırın."
   ]
  },
  {
   "cell_type": "markdown",
   "metadata": {},
   "source": [
    "1.Tek değişkenli analiz yaparak verileri yorumlayın, önemli gördüğünüz noktaları belirtin."
   ]
  },
  {
   "cell_type": "code",
   "execution_count": 2,
   "metadata": {},
   "outputs": [
    {
     "data": {
      "text/html": [
       "<div>\n",
       "<style scoped>\n",
       "    .dataframe tbody tr th:only-of-type {\n",
       "        vertical-align: middle;\n",
       "    }\n",
       "\n",
       "    .dataframe tbody tr th {\n",
       "        vertical-align: top;\n",
       "    }\n",
       "\n",
       "    .dataframe thead th {\n",
       "        text-align: right;\n",
       "    }\n",
       "</style>\n",
       "<table border=\"1\" class=\"dataframe\">\n",
       "  <thead>\n",
       "    <tr style=\"text-align: right;\">\n",
       "      <th></th>\n",
       "      <th>PRIMARY_KEY</th>\n",
       "      <th>STATE</th>\n",
       "      <th>YEAR</th>\n",
       "      <th>ENROLL</th>\n",
       "      <th>TOTAL_REVENUE</th>\n",
       "      <th>FEDERAL_REVENUE</th>\n",
       "      <th>STATE_REVENUE</th>\n",
       "      <th>LOCAL_REVENUE</th>\n",
       "      <th>TOTAL_EXPENDITURE</th>\n",
       "      <th>INSTRUCTION_EXPENDITURE</th>\n",
       "      <th>...</th>\n",
       "      <th>GRADES_4_G</th>\n",
       "      <th>GRADES_8_G</th>\n",
       "      <th>GRADES_12_G</th>\n",
       "      <th>GRADES_1_8_G</th>\n",
       "      <th>GRADES_9_12_G</th>\n",
       "      <th>GRADES_ALL_G</th>\n",
       "      <th>AVG_MATH_4_SCORE</th>\n",
       "      <th>AVG_MATH_8_SCORE</th>\n",
       "      <th>AVG_READING_4_SCORE</th>\n",
       "      <th>AVG_READING_8_SCORE</th>\n",
       "    </tr>\n",
       "  </thead>\n",
       "  <tbody>\n",
       "    <tr>\n",
       "      <th>0</th>\n",
       "      <td>1992_ALABAMA</td>\n",
       "      <td>ALABAMA</td>\n",
       "      <td>1992</td>\n",
       "      <td>NaN</td>\n",
       "      <td>2678885.0</td>\n",
       "      <td>304177.0</td>\n",
       "      <td>1659028.0</td>\n",
       "      <td>715680.0</td>\n",
       "      <td>2653798.0</td>\n",
       "      <td>1481703.0</td>\n",
       "      <td>...</td>\n",
       "      <td>57948.0</td>\n",
       "      <td>58025.0</td>\n",
       "      <td>41167.0</td>\n",
       "      <td>471564.0</td>\n",
       "      <td>196386.0</td>\n",
       "      <td>676174.0</td>\n",
       "      <td>208.327876</td>\n",
       "      <td>252.187522</td>\n",
       "      <td>207.963517</td>\n",
       "      <td>NaN</td>\n",
       "    </tr>\n",
       "    <tr>\n",
       "      <th>1</th>\n",
       "      <td>1992_ALASKA</td>\n",
       "      <td>ALASKA</td>\n",
       "      <td>1992</td>\n",
       "      <td>NaN</td>\n",
       "      <td>1049591.0</td>\n",
       "      <td>106780.0</td>\n",
       "      <td>720711.0</td>\n",
       "      <td>222100.0</td>\n",
       "      <td>972488.0</td>\n",
       "      <td>498362.0</td>\n",
       "      <td>...</td>\n",
       "      <td>9748.0</td>\n",
       "      <td>8789.0</td>\n",
       "      <td>6714.0</td>\n",
       "      <td>79117.0</td>\n",
       "      <td>30847.0</td>\n",
       "      <td>112335.0</td>\n",
       "      <td>NaN</td>\n",
       "      <td>NaN</td>\n",
       "      <td>NaN</td>\n",
       "      <td>258.859712</td>\n",
       "    </tr>\n",
       "    <tr>\n",
       "      <th>2</th>\n",
       "      <td>1992_ARIZONA</td>\n",
       "      <td>ARIZONA</td>\n",
       "      <td>1992</td>\n",
       "      <td>NaN</td>\n",
       "      <td>3258079.0</td>\n",
       "      <td>297888.0</td>\n",
       "      <td>1369815.0</td>\n",
       "      <td>1590376.0</td>\n",
       "      <td>3401580.0</td>\n",
       "      <td>1435908.0</td>\n",
       "      <td>...</td>\n",
       "      <td>55433.0</td>\n",
       "      <td>49081.0</td>\n",
       "      <td>37410.0</td>\n",
       "      <td>437127.0</td>\n",
       "      <td>175210.0</td>\n",
       "      <td>614881.0</td>\n",
       "      <td>215.253932</td>\n",
       "      <td>265.366278</td>\n",
       "      <td>206.212716</td>\n",
       "      <td>262.169895</td>\n",
       "    </tr>\n",
       "    <tr>\n",
       "      <th>3</th>\n",
       "      <td>1992_ARKANSAS</td>\n",
       "      <td>ARKANSAS</td>\n",
       "      <td>1992</td>\n",
       "      <td>NaN</td>\n",
       "      <td>1711959.0</td>\n",
       "      <td>178571.0</td>\n",
       "      <td>958785.0</td>\n",
       "      <td>574603.0</td>\n",
       "      <td>1743022.0</td>\n",
       "      <td>964323.0</td>\n",
       "      <td>...</td>\n",
       "      <td>34632.0</td>\n",
       "      <td>36011.0</td>\n",
       "      <td>27651.0</td>\n",
       "      <td>281338.0</td>\n",
       "      <td>123113.0</td>\n",
       "      <td>405259.0</td>\n",
       "      <td>210.206028</td>\n",
       "      <td>256.312090</td>\n",
       "      <td>208.634458</td>\n",
       "      <td>264.619665</td>\n",
       "    </tr>\n",
       "    <tr>\n",
       "      <th>4</th>\n",
       "      <td>1992_CALIFORNIA</td>\n",
       "      <td>CALIFORNIA</td>\n",
       "      <td>1992</td>\n",
       "      <td>NaN</td>\n",
       "      <td>26260025.0</td>\n",
       "      <td>2072470.0</td>\n",
       "      <td>16546514.0</td>\n",
       "      <td>7641041.0</td>\n",
       "      <td>27138832.0</td>\n",
       "      <td>14358922.0</td>\n",
       "      <td>...</td>\n",
       "      <td>418418.0</td>\n",
       "      <td>363296.0</td>\n",
       "      <td>270675.0</td>\n",
       "      <td>3286034.0</td>\n",
       "      <td>1372011.0</td>\n",
       "      <td>4717112.0</td>\n",
       "      <td>208.398961</td>\n",
       "      <td>260.892247</td>\n",
       "      <td>196.764414</td>\n",
       "      <td>NaN</td>\n",
       "    </tr>\n",
       "  </tbody>\n",
       "</table>\n",
       "<p>5 rows × 25 columns</p>\n",
       "</div>"
      ],
      "text/plain": [
       "       PRIMARY_KEY       STATE  YEAR  ENROLL  TOTAL_REVENUE  FEDERAL_REVENUE  \\\n",
       "0     1992_ALABAMA     ALABAMA  1992     NaN      2678885.0         304177.0   \n",
       "1      1992_ALASKA      ALASKA  1992     NaN      1049591.0         106780.0   \n",
       "2     1992_ARIZONA     ARIZONA  1992     NaN      3258079.0         297888.0   \n",
       "3    1992_ARKANSAS    ARKANSAS  1992     NaN      1711959.0         178571.0   \n",
       "4  1992_CALIFORNIA  CALIFORNIA  1992     NaN     26260025.0        2072470.0   \n",
       "\n",
       "   STATE_REVENUE  LOCAL_REVENUE  TOTAL_EXPENDITURE  INSTRUCTION_EXPENDITURE  \\\n",
       "0      1659028.0       715680.0          2653798.0                1481703.0   \n",
       "1       720711.0       222100.0           972488.0                 498362.0   \n",
       "2      1369815.0      1590376.0          3401580.0                1435908.0   \n",
       "3       958785.0       574603.0          1743022.0                 964323.0   \n",
       "4     16546514.0      7641041.0         27138832.0               14358922.0   \n",
       "\n",
       "          ...           GRADES_4_G  GRADES_8_G  GRADES_12_G  GRADES_1_8_G  \\\n",
       "0         ...              57948.0     58025.0      41167.0      471564.0   \n",
       "1         ...               9748.0      8789.0       6714.0       79117.0   \n",
       "2         ...              55433.0     49081.0      37410.0      437127.0   \n",
       "3         ...              34632.0     36011.0      27651.0      281338.0   \n",
       "4         ...             418418.0    363296.0     270675.0     3286034.0   \n",
       "\n",
       "   GRADES_9_12_G  GRADES_ALL_G  AVG_MATH_4_SCORE  AVG_MATH_8_SCORE  \\\n",
       "0       196386.0      676174.0        208.327876        252.187522   \n",
       "1        30847.0      112335.0               NaN               NaN   \n",
       "2       175210.0      614881.0        215.253932        265.366278   \n",
       "3       123113.0      405259.0        210.206028        256.312090   \n",
       "4      1372011.0     4717112.0        208.398961        260.892247   \n",
       "\n",
       "   AVG_READING_4_SCORE  AVG_READING_8_SCORE  \n",
       "0           207.963517                  NaN  \n",
       "1                  NaN           258.859712  \n",
       "2           206.212716           262.169895  \n",
       "3           208.634458           264.619665  \n",
       "4           196.764414                  NaN  \n",
       "\n",
       "[5 rows x 25 columns]"
      ]
     },
     "execution_count": 2,
     "metadata": {},
     "output_type": "execute_result"
    }
   ],
   "source": [
    "states_all = pd.read_csv(\"states_all.csv\")\n",
    "states_all.head()"
   ]
  },
  {
   "cell_type": "code",
   "execution_count": 3,
   "metadata": {},
   "outputs": [
    {
     "data": {
      "text/html": [
       "<div>\n",
       "<style scoped>\n",
       "    .dataframe tbody tr th:only-of-type {\n",
       "        vertical-align: middle;\n",
       "    }\n",
       "\n",
       "    .dataframe tbody tr th {\n",
       "        vertical-align: top;\n",
       "    }\n",
       "\n",
       "    .dataframe thead th {\n",
       "        text-align: right;\n",
       "    }\n",
       "</style>\n",
       "<table border=\"1\" class=\"dataframe\">\n",
       "  <thead>\n",
       "    <tr style=\"text-align: right;\">\n",
       "      <th></th>\n",
       "      <th>YEAR</th>\n",
       "      <th>ENROLL</th>\n",
       "      <th>TOTAL_REVENUE</th>\n",
       "      <th>FEDERAL_REVENUE</th>\n",
       "      <th>STATE_REVENUE</th>\n",
       "      <th>LOCAL_REVENUE</th>\n",
       "      <th>TOTAL_EXPENDITURE</th>\n",
       "      <th>INSTRUCTION_EXPENDITURE</th>\n",
       "      <th>SUPPORT_SERVICES_EXPENDITURE</th>\n",
       "      <th>OTHER_EXPENDITURE</th>\n",
       "      <th>...</th>\n",
       "      <th>GRADES_4_G</th>\n",
       "      <th>GRADES_8_G</th>\n",
       "      <th>GRADES_12_G</th>\n",
       "      <th>GRADES_1_8_G</th>\n",
       "      <th>GRADES_9_12_G</th>\n",
       "      <th>GRADES_ALL_G</th>\n",
       "      <th>AVG_MATH_4_SCORE</th>\n",
       "      <th>AVG_MATH_8_SCORE</th>\n",
       "      <th>AVG_READING_4_SCORE</th>\n",
       "      <th>AVG_READING_8_SCORE</th>\n",
       "    </tr>\n",
       "  </thead>\n",
       "  <tbody>\n",
       "    <tr>\n",
       "      <th>count</th>\n",
       "      <td>1492.000000</td>\n",
       "      <td>1.229000e+03</td>\n",
       "      <td>1.280000e+03</td>\n",
       "      <td>1.280000e+03</td>\n",
       "      <td>1.280000e+03</td>\n",
       "      <td>1.280000e+03</td>\n",
       "      <td>1.280000e+03</td>\n",
       "      <td>1.280000e+03</td>\n",
       "      <td>1.280000e+03</td>\n",
       "      <td>1.229000e+03</td>\n",
       "      <td>...</td>\n",
       "      <td>1361.000000</td>\n",
       "      <td>1361.000000</td>\n",
       "      <td>1361.00000</td>\n",
       "      <td>1.361000e+03</td>\n",
       "      <td>1.361000e+03</td>\n",
       "      <td>1.319000e+03</td>\n",
       "      <td>536.000000</td>\n",
       "      <td>532.000000</td>\n",
       "      <td>533.000000</td>\n",
       "      <td>498.000000</td>\n",
       "    </tr>\n",
       "    <tr>\n",
       "      <th>mean</th>\n",
       "      <td>2004.433646</td>\n",
       "      <td>9.159308e+05</td>\n",
       "      <td>9.092082e+06</td>\n",
       "      <td>7.663723e+05</td>\n",
       "      <td>4.216553e+06</td>\n",
       "      <td>4.109157e+06</td>\n",
       "      <td>9.196681e+06</td>\n",
       "      <td>4.762966e+06</td>\n",
       "      <td>2.680331e+06</td>\n",
       "      <td>4.292046e+05</td>\n",
       "      <td>...</td>\n",
       "      <td>64538.927259</td>\n",
       "      <td>64271.057311</td>\n",
       "      <td>54268.92432</td>\n",
       "      <td>5.192140e+05</td>\n",
       "      <td>2.470714e+05</td>\n",
       "      <td>8.024415e+05</td>\n",
       "      <td>234.768293</td>\n",
       "      <td>278.414711</td>\n",
       "      <td>218.866154</td>\n",
       "      <td>263.661132</td>\n",
       "    </tr>\n",
       "    <tr>\n",
       "      <th>std</th>\n",
       "      <td>7.393983</td>\n",
       "      <td>1.065280e+06</td>\n",
       "      <td>1.174519e+07</td>\n",
       "      <td>1.145242e+06</td>\n",
       "      <td>5.543072e+06</td>\n",
       "      <td>5.482971e+06</td>\n",
       "      <td>1.197813e+07</td>\n",
       "      <td>6.293004e+06</td>\n",
       "      <td>3.353349e+06</td>\n",
       "      <td>5.340693e+05</td>\n",
       "      <td>...</td>\n",
       "      <td>80293.387625</td>\n",
       "      <td>78910.545776</td>\n",
       "      <td>67889.27623</td>\n",
       "      <td>6.436384e+05</td>\n",
       "      <td>3.077056e+05</td>\n",
       "      <td>9.707031e+05</td>\n",
       "      <td>10.221511</td>\n",
       "      <td>10.159722</td>\n",
       "      <td>7.769616</td>\n",
       "      <td>6.803725</td>\n",
       "    </tr>\n",
       "    <tr>\n",
       "      <th>min</th>\n",
       "      <td>1992.000000</td>\n",
       "      <td>4.386600e+04</td>\n",
       "      <td>4.656500e+05</td>\n",
       "      <td>3.102000e+04</td>\n",
       "      <td>0.000000e+00</td>\n",
       "      <td>2.209300e+04</td>\n",
       "      <td>4.816650e+05</td>\n",
       "      <td>2.655490e+05</td>\n",
       "      <td>1.399630e+05</td>\n",
       "      <td>1.154100e+04</td>\n",
       "      <td>...</td>\n",
       "      <td>633.000000</td>\n",
       "      <td>437.000000</td>\n",
       "      <td>311.00000</td>\n",
       "      <td>4.878000e+03</td>\n",
       "      <td>1.808000e+03</td>\n",
       "      <td>7.254000e+03</td>\n",
       "      <td>187.134670</td>\n",
       "      <td>232.831510</td>\n",
       "      <td>178.557612</td>\n",
       "      <td>236.379102</td>\n",
       "    </tr>\n",
       "    <tr>\n",
       "      <th>25%</th>\n",
       "      <td>1998.000000</td>\n",
       "      <td>2.583140e+05</td>\n",
       "      <td>2.186305e+06</td>\n",
       "      <td>1.893540e+05</td>\n",
       "      <td>1.153097e+06</td>\n",
       "      <td>7.158345e+05</td>\n",
       "      <td>2.165404e+06</td>\n",
       "      <td>1.168032e+06</td>\n",
       "      <td>6.357900e+05</td>\n",
       "      <td>1.028310e+05</td>\n",
       "      <td>...</td>\n",
       "      <td>13739.000000</td>\n",
       "      <td>13342.000000</td>\n",
       "      <td>10919.00000</td>\n",
       "      <td>1.106260e+05</td>\n",
       "      <td>5.147100e+04</td>\n",
       "      <td>1.810650e+05</td>\n",
       "      <td>229.694352</td>\n",
       "      <td>272.761598</td>\n",
       "      <td>214.663401</td>\n",
       "      <td>259.533171</td>\n",
       "    </tr>\n",
       "    <tr>\n",
       "      <th>50%</th>\n",
       "      <td>2004.000000</td>\n",
       "      <td>6.483130e+05</td>\n",
       "      <td>5.079546e+06</td>\n",
       "      <td>4.033765e+05</td>\n",
       "      <td>2.537074e+06</td>\n",
       "      <td>2.055780e+06</td>\n",
       "      <td>5.234506e+06</td>\n",
       "      <td>2.657452e+06</td>\n",
       "      <td>1.525406e+06</td>\n",
       "      <td>2.715960e+05</td>\n",
       "      <td>...</td>\n",
       "      <td>43272.000000</td>\n",
       "      <td>43339.000000</td>\n",
       "      <td>36735.00000</td>\n",
       "      <td>3.457750e+05</td>\n",
       "      <td>1.642600e+05</td>\n",
       "      <td>5.503420e+05</td>\n",
       "      <td>237.238552</td>\n",
       "      <td>280.618803</td>\n",
       "      <td>220.416034</td>\n",
       "      <td>265.010912</td>\n",
       "    </tr>\n",
       "    <tr>\n",
       "      <th>75%</th>\n",
       "      <td>2011.000000</td>\n",
       "      <td>1.014528e+06</td>\n",
       "      <td>1.085985e+07</td>\n",
       "      <td>8.289660e+05</td>\n",
       "      <td>5.080939e+06</td>\n",
       "      <td>4.768680e+06</td>\n",
       "      <td>1.074519e+07</td>\n",
       "      <td>5.568028e+06</td>\n",
       "      <td>3.229651e+06</td>\n",
       "      <td>5.186000e+05</td>\n",
       "      <td>...</td>\n",
       "      <td>75481.000000</td>\n",
       "      <td>76566.000000</td>\n",
       "      <td>67460.00000</td>\n",
       "      <td>6.119050e+05</td>\n",
       "      <td>2.905020e+05</td>\n",
       "      <td>9.282755e+05</td>\n",
       "      <td>241.995486</td>\n",
       "      <td>285.347428</td>\n",
       "      <td>223.999337</td>\n",
       "      <td>268.190121</td>\n",
       "    </tr>\n",
       "    <tr>\n",
       "      <th>max</th>\n",
       "      <td>2017.000000</td>\n",
       "      <td>6.307022e+06</td>\n",
       "      <td>8.921726e+07</td>\n",
       "      <td>9.990221e+06</td>\n",
       "      <td>5.090457e+07</td>\n",
       "      <td>3.610526e+07</td>\n",
       "      <td>8.532013e+07</td>\n",
       "      <td>4.396452e+07</td>\n",
       "      <td>2.605802e+07</td>\n",
       "      <td>3.995951e+06</td>\n",
       "      <td>...</td>\n",
       "      <td>493415.000000</td>\n",
       "      <td>500143.000000</td>\n",
       "      <td>498403.00000</td>\n",
       "      <td>3.929869e+06</td>\n",
       "      <td>2.013687e+06</td>\n",
       "      <td>5.944746e+06</td>\n",
       "      <td>253.420961</td>\n",
       "      <td>300.568235</td>\n",
       "      <td>236.773867</td>\n",
       "      <td>280.499130</td>\n",
       "    </tr>\n",
       "  </tbody>\n",
       "</table>\n",
       "<p>8 rows × 23 columns</p>\n",
       "</div>"
      ],
      "text/plain": [
       "              YEAR        ENROLL  TOTAL_REVENUE  FEDERAL_REVENUE  \\\n",
       "count  1492.000000  1.229000e+03   1.280000e+03     1.280000e+03   \n",
       "mean   2004.433646  9.159308e+05   9.092082e+06     7.663723e+05   \n",
       "std       7.393983  1.065280e+06   1.174519e+07     1.145242e+06   \n",
       "min    1992.000000  4.386600e+04   4.656500e+05     3.102000e+04   \n",
       "25%    1998.000000  2.583140e+05   2.186305e+06     1.893540e+05   \n",
       "50%    2004.000000  6.483130e+05   5.079546e+06     4.033765e+05   \n",
       "75%    2011.000000  1.014528e+06   1.085985e+07     8.289660e+05   \n",
       "max    2017.000000  6.307022e+06   8.921726e+07     9.990221e+06   \n",
       "\n",
       "       STATE_REVENUE  LOCAL_REVENUE  TOTAL_EXPENDITURE  \\\n",
       "count   1.280000e+03   1.280000e+03       1.280000e+03   \n",
       "mean    4.216553e+06   4.109157e+06       9.196681e+06   \n",
       "std     5.543072e+06   5.482971e+06       1.197813e+07   \n",
       "min     0.000000e+00   2.209300e+04       4.816650e+05   \n",
       "25%     1.153097e+06   7.158345e+05       2.165404e+06   \n",
       "50%     2.537074e+06   2.055780e+06       5.234506e+06   \n",
       "75%     5.080939e+06   4.768680e+06       1.074519e+07   \n",
       "max     5.090457e+07   3.610526e+07       8.532013e+07   \n",
       "\n",
       "       INSTRUCTION_EXPENDITURE  SUPPORT_SERVICES_EXPENDITURE  \\\n",
       "count             1.280000e+03                  1.280000e+03   \n",
       "mean              4.762966e+06                  2.680331e+06   \n",
       "std               6.293004e+06                  3.353349e+06   \n",
       "min               2.655490e+05                  1.399630e+05   \n",
       "25%               1.168032e+06                  6.357900e+05   \n",
       "50%               2.657452e+06                  1.525406e+06   \n",
       "75%               5.568028e+06                  3.229651e+06   \n",
       "max               4.396452e+07                  2.605802e+07   \n",
       "\n",
       "       OTHER_EXPENDITURE         ...              GRADES_4_G     GRADES_8_G  \\\n",
       "count       1.229000e+03         ...             1361.000000    1361.000000   \n",
       "mean        4.292046e+05         ...            64538.927259   64271.057311   \n",
       "std         5.340693e+05         ...            80293.387625   78910.545776   \n",
       "min         1.154100e+04         ...              633.000000     437.000000   \n",
       "25%         1.028310e+05         ...            13739.000000   13342.000000   \n",
       "50%         2.715960e+05         ...            43272.000000   43339.000000   \n",
       "75%         5.186000e+05         ...            75481.000000   76566.000000   \n",
       "max         3.995951e+06         ...           493415.000000  500143.000000   \n",
       "\n",
       "        GRADES_12_G  GRADES_1_8_G  GRADES_9_12_G  GRADES_ALL_G  \\\n",
       "count    1361.00000  1.361000e+03   1.361000e+03  1.319000e+03   \n",
       "mean    54268.92432  5.192140e+05   2.470714e+05  8.024415e+05   \n",
       "std     67889.27623  6.436384e+05   3.077056e+05  9.707031e+05   \n",
       "min       311.00000  4.878000e+03   1.808000e+03  7.254000e+03   \n",
       "25%     10919.00000  1.106260e+05   5.147100e+04  1.810650e+05   \n",
       "50%     36735.00000  3.457750e+05   1.642600e+05  5.503420e+05   \n",
       "75%     67460.00000  6.119050e+05   2.905020e+05  9.282755e+05   \n",
       "max    498403.00000  3.929869e+06   2.013687e+06  5.944746e+06   \n",
       "\n",
       "       AVG_MATH_4_SCORE  AVG_MATH_8_SCORE  AVG_READING_4_SCORE  \\\n",
       "count        536.000000        532.000000           533.000000   \n",
       "mean         234.768293        278.414711           218.866154   \n",
       "std           10.221511         10.159722             7.769616   \n",
       "min          187.134670        232.831510           178.557612   \n",
       "25%          229.694352        272.761598           214.663401   \n",
       "50%          237.238552        280.618803           220.416034   \n",
       "75%          241.995486        285.347428           223.999337   \n",
       "max          253.420961        300.568235           236.773867   \n",
       "\n",
       "       AVG_READING_8_SCORE  \n",
       "count           498.000000  \n",
       "mean            263.661132  \n",
       "std               6.803725  \n",
       "min             236.379102  \n",
       "25%             259.533171  \n",
       "50%             265.010912  \n",
       "75%             268.190121  \n",
       "max             280.499130  \n",
       "\n",
       "[8 rows x 23 columns]"
      ]
     },
     "execution_count": 3,
     "metadata": {},
     "output_type": "execute_result"
    }
   ],
   "source": [
    "states_all.describe()"
   ]
  },
  {
   "cell_type": "markdown",
   "metadata": {},
   "source": [
    "Ogrencilerin matematik dersinde okuma dersinden daha basarili olduklarini goruyoruz.\n",
    "Toplam harcamanin toplam gelirden yuksek oldugunu goruyoruz."
   ]
  },
  {
   "cell_type": "markdown",
   "metadata": {},
   "source": []
  },
  {
   "cell_type": "markdown",
   "metadata": {},
   "source": [
    "2.Bir eyaleti ele alın (ör: California) ve toplam gelirleri ile toplam harcamalarının yıllara göre değişiminin doğru grafiğini çizin. Bu iki değişken yıllara göre değişim göstermekte midir? Zirve ve dip yaptığı yıllar var mı?"
   ]
  },
  {
   "cell_type": "code",
   "execution_count": 10,
   "metadata": {},
   "outputs": [],
   "source": [
    "y2 = states_all[ states_all.STATE == 'CALIFORNIA'][\"TOTAL_EXPENDITURE\"]"
   ]
  },
  {
   "cell_type": "code",
   "execution_count": 9,
   "metadata": {},
   "outputs": [],
   "source": [
    "x =states_all[ states_all.STATE == 'CALIFORNIA'][\"YEAR\"]"
   ]
  },
  {
   "cell_type": "code",
   "execution_count": 8,
   "metadata": {},
   "outputs": [],
   "source": [
    "y = states_all[ states_all.STATE == 'CALIFORNIA'][\"TOTAL_REVENUE\"]"
   ]
  },
  {
   "cell_type": "code",
   "execution_count": 65,
   "metadata": {},
   "outputs": [
    {
     "data": {
      "image/png": "[encoded data removed]",
      "text/plain": [
       "<Figure size 612x504 with 1 Axes>"
      ]
     },
     "metadata": {
      "needs_background": "light"
     },
     "output_type": "display_data"
    }
   ],
   "source": [
    "plt.figure(1, figsize = (8.5,7))\n",
    "plt.plot(x,y, label = 'Year/Total Revenue', color='purple', linewidth=5)\n",
    "plt.plot(x,y2, label = 'Year/Total Expenditure',color='red', linewidth=5)\n",
    "plt.xlabel('Years')\n",
    "plt.ylabel('total amount/millions ')\n",
    "plt.xlim([1990, 2020])\n",
    "plt.title('Total Expenditure & Revenue')\n",
    "plt.legend()\n",
    "plt.show()"
   ]
  },
  {
   "cell_type": "markdown",
   "metadata": {},
   "source": [
    "Toplam harcam ave gelir egilimi 2003 yilina kadar birlikte hareket etmektedir. 2003 yili sonrasi toplam gelir toplam harcama karsisinda azalmistir.1994 yilinda en dusuk seviyesindeyken, 1995 yili sonrasinda hizli bir yukselisle artarak artmaya devam etmistir. 2007 sonrasi 2015 yili sonrasi ikisinde de artis gozlemlenmektedir. "
   ]
  },
  {
   "cell_type": "markdown",
   "metadata": {},
   "source": [
    "3. Seçtiğiniz eyalette, öğrenciler hangi derste daha başarılı? Matematik mi yoksa okuma mı?"
   ]
  },
  {
   "cell_type": "code",
   "execution_count": 108,
   "metadata": {},
   "outputs": [],
   "source": [
    "states_all['fark4'] = (states_all['AVG_MATH_4_SCORE'] - states_all['AVG_READING_4_SCORE'])"
   ]
  },
  {
   "cell_type": "code",
   "execution_count": 110,
   "metadata": {},
   "outputs": [],
   "source": [
    "states_all['fark8'] = (states_all['AVG_MATH_8_SCORE'] - states_all['AVG_READING_8_SCORE'])"
   ]
  },
  {
   "cell_type": "code",
   "execution_count": 117,
   "metadata": {},
   "outputs": [],
   "source": [
    "x = states_all[states_all.STATE == 'CALIFORNIA'] [['YEAR', 'fark4']].dropna().YEAR\n",
    "y = states_all[states_all.STATE == 'CALIFORNIA'] [['YEAR', 'fark4']].dropna().fark4\n"
   ]
  },
  {
   "cell_type": "code",
   "execution_count": 119,
   "metadata": {},
   "outputs": [],
   "source": [
    "x2 = states_all[states_all.STATE == 'CALIFORNIA'] [['YEAR', 'fark8']].dropna().YEAR\n",
    "y2 = states_all[states_all.STATE == 'CALIFORNIA'] [['YEAR', 'fark8']].dropna().fark8\n"
   ]
  },
  {
   "cell_type": "code",
   "execution_count": 121,
   "metadata": {},
   "outputs": [
    {
     "data": {
      "image/png": "[encoded data removed]",
      "text/plain": [
       "<Figure size 432x288 with 1 Axes>"
      ]
     },
     "metadata": {
      "needs_background": "light"
     },
     "output_type": "display_data"
    }
   ],
   "source": [
    "plt.plot(x,y, label = 'Year/Fark 4, Sinif', color='purple', linewidth=5)\n",
    "plt.plot(x2,y2, label = 'Year/Fark 8. Sinif',color='red', linewidth=5)\n",
    "plt.xlabel('Years')\n",
    "plt.ylabel('Notlar ')\n",
    "plt.xlim([1990, 2020])\n",
    "plt.title('8. ve 4. sinif Not Farklari')\n",
    "plt.legend()\n",
    "plt.show()"
   ]
  },
  {
   "cell_type": "code",
   "execution_count": 83,
   "metadata": {},
   "outputs": [
    {
     "data": {
      "text/plain": [
       "234.76829289706959"
      ]
     },
     "execution_count": 83,
     "metadata": {},
     "output_type": "execute_result"
    }
   ],
   "source": [
    "np.max(states_all[ \"AVG_MATH_4_SCORE\"].mean())    "
   ]
  },
  {
   "cell_type": "code",
   "execution_count": 84,
   "metadata": {},
   "outputs": [
    {
     "data": {
      "text/plain": [
       "278.4147114511402"
      ]
     },
     "execution_count": 84,
     "metadata": {},
     "output_type": "execute_result"
    }
   ],
   "source": [
    "np.max(states_all[ \"AVG_MATH_8_SCORE\"].mean())"
   ]
  },
  {
   "cell_type": "code",
   "execution_count": 85,
   "metadata": {},
   "outputs": [
    {
     "data": {
      "text/plain": [
       "218.8661539741663"
      ]
     },
     "execution_count": 85,
     "metadata": {},
     "output_type": "execute_result"
    }
   ],
   "source": [
    "np.max(states_all[ \"AVG_READING_4_SCORE\"].mean())"
   ]
  },
  {
   "cell_type": "code",
   "execution_count": 86,
   "metadata": {},
   "outputs": [
    {
     "data": {
      "text/plain": [
       "263.66113199437666"
      ]
     },
     "execution_count": 86,
     "metadata": {},
     "output_type": "execute_result"
    }
   ],
   "source": [
    "np.max(states_all[ \"AVG_READING_8_SCORE\"].mean())"
   ]
  },
  {
   "cell_type": "markdown",
   "metadata": {},
   "source": [
    "Ogrencilerin Matematikte daha basarili oldugunu goruyoruz. "
   ]
  },
  {
   "cell_type": "code",
   "execution_count": null,
   "metadata": {},
   "outputs": [],
   "source": []
  },
  {
   "cell_type": "markdown",
   "metadata": {},
   "source": [
    "4. Matematik ve okuma notlarının dağılımı nedir?"
   ]
  },
  {
   "cell_type": "code",
   "execution_count": 87,
   "metadata": {},
   "outputs": [
    {
     "data": {
      "image/png": "[encoded data removed]",
      "text/plain": [
       "<Figure size 1800x1500 with 4 Axes>"
      ]
     },
     "metadata": {},
     "output_type": "display_data"
    }
   ],
   "source": [
    "plt.figure(figsize=(18,15))\n",
    "baslik_font = {'family': 'arial', 'color': 'darkred','weight': 'bold','size': 13 }\n",
    "eksen_font  = {'family': 'arial', 'color': 'darkblue','weight': 'bold','size': 10 }\n",
    "\n",
    "degiskenler3 = ['AVG_MATH_4_SCORE','AVG_MATH_8_SCORE', 'AVG_READING_4_SCORE', 'AVG_READING_8_SCORE']\n",
    "\n",
    "\n",
    "for i in range(4):\n",
    "    plt.subplot(4, 4, i+1)\n",
    "    plt.hist(states_all[degiskenler3[i]])\n",
    "    plt.title(degiskenler3[i], fontdict=baslik_font)"
   ]
  },
  {
   "cell_type": "markdown",
   "metadata": {},
   "source": [
    "Notlarin dagilimi normal dagilima yakindir. "
   ]
  },
  {
   "cell_type": "code",
   "execution_count": null,
   "metadata": {},
   "outputs": [],
   "source": []
  },
  {
   "cell_type": "markdown",
   "metadata": {},
   "source": [
    "5. Matematik ve okuma notlarında birçok eksik değer olduğunu farketmişsinizdir. Eksik değerleri ortalama, medyan ve enterpolasyon ile tamamlayın. Bu tekniklerin notların dağılımı üzerindeki etkisini karşılaştırın.\n",
    "\n"
   ]
  },
  {
   "cell_type": "code",
   "execution_count": 94,
   "metadata": {},
   "outputs": [
    {
     "data": {
      "text/plain": [
       "0.6434316353887399"
      ]
     },
     "execution_count": 94,
     "metadata": {},
     "output_type": "execute_result"
    }
   ],
   "source": [
    "states_all[\"AVG_MATH_8_SCORE\"].isnull().sum()/states_all[\"AVG_MATH_8_SCORE\"].isnull().count()"
   ]
  },
  {
   "cell_type": "code",
   "execution_count": 95,
   "metadata": {},
   "outputs": [
    {
     "data": {
      "text/plain": [
       "0.6407506702412868"
      ]
     },
     "execution_count": 95,
     "metadata": {},
     "output_type": "execute_result"
    }
   ],
   "source": [
    "states_all[\"AVG_MATH_4_SCORE\"].isnull().sum()/states_all[\"AVG_MATH_4_SCORE\"].isnull().count()"
   ]
  },
  {
   "cell_type": "code",
   "execution_count": 96,
   "metadata": {},
   "outputs": [
    {
     "data": {
      "text/plain": [
       "0.6427613941018767"
      ]
     },
     "execution_count": 96,
     "metadata": {},
     "output_type": "execute_result"
    }
   ],
   "source": [
    "states_all[\"AVG_READING_4_SCORE\"].isnull().sum()/states_all[\"AVG_READING_4_SCORE\"].isnull().count()"
   ]
  },
  {
   "cell_type": "code",
   "execution_count": 97,
   "metadata": {},
   "outputs": [
    {
     "data": {
      "text/plain": [
       "0.6662198391420912"
      ]
     },
     "execution_count": 97,
     "metadata": {},
     "output_type": "execute_result"
    }
   ],
   "source": [
    "states_all[\"AVG_READING_8_SCORE\"].isnull().sum()/states_all[\"AVG_READING_8_SCORE\"].isnull().count()"
   ]
  },
  {
   "cell_type": "code",
   "execution_count": 100,
   "metadata": {},
   "outputs": [],
   "source": [
    "states_all2 = states_all.copy()"
   ]
  },
  {
   "cell_type": "code",
   "execution_count": 101,
   "metadata": {},
   "outputs": [],
   "source": [
    "#Eksikleri Ortalama ile tamamlama\n",
    "fill_list = ['AVG_MATH_4_SCORE','AVG_MATH_8_SCORE', 'AVG_READING_4_SCORE', 'AVG_READING_8_SCORE']\n",
    "\n",
    "\n",
    "for col in fill_list:\n",
    "    states_all2.loc[:, col].fillna(states_all2.loc[:, col].mean(), inplace=True)"
   ]
  },
  {
   "cell_type": "code",
   "execution_count": 111,
   "metadata": {},
   "outputs": [],
   "source": [
    "#Eksikleri Median ile tamamlama\n",
    "states_all3 = states_all.copy()\n",
    "fill_list = ['AVG_MATH_4_SCORE','AVG_MATH_8_SCORE', 'AVG_READING_4_SCORE', 'AVG_READING_8_SCORE']\n",
    "\n",
    "\n",
    "for col in fill_list:\n",
    "    states_all3.loc[:, col].fillna(states_all3.loc[:, col].median(), inplace=True)"
   ]
  },
  {
   "cell_type": "code",
   "execution_count": 112,
   "metadata": {},
   "outputs": [],
   "source": [
    "#Eksikleri enterpolasyon ile tamamlama\n",
    "states_all4 = states_all.copy()\n",
    "for col in fill_list:\n",
    "    states_all4.loc[:,col].interpolate(inplace=True)"
   ]
  },
  {
   "cell_type": "code",
   "execution_count": 113,
   "metadata": {},
   "outputs": [
    {
     "data": {
      "text/plain": [
       "'AVG_MATH_4_SCORE sutunu icin istatistikler:'"
      ]
     },
     "metadata": {},
     "output_type": "display_data"
    },
    {
     "data": {
      "text/html": [
       "<div>\n",
       "<style scoped>\n",
       "    .dataframe tbody tr th:only-of-type {\n",
       "        vertical-align: middle;\n",
       "    }\n",
       "\n",
       "    .dataframe tbody tr th {\n",
       "        vertical-align: top;\n",
       "    }\n",
       "\n",
       "    .dataframe thead th {\n",
       "        text-align: right;\n",
       "    }\n",
       "</style>\n",
       "<table border=\"1\" class=\"dataframe\">\n",
       "  <thead>\n",
       "    <tr style=\"text-align: right;\">\n",
       "      <th></th>\n",
       "      <th>AVG_MATH_4_SCORE</th>\n",
       "      <th>AVG_MATH_4_SCORE</th>\n",
       "      <th>AVG_MATH_4_SCORE</th>\n",
       "      <th>AVG_MATH_4_SCORE</th>\n",
       "    </tr>\n",
       "  </thead>\n",
       "  <tbody>\n",
       "    <tr>\n",
       "      <th>count</th>\n",
       "      <td>536.000000</td>\n",
       "      <td>1492.000000</td>\n",
       "      <td>1492.000000</td>\n",
       "      <td>1492.000000</td>\n",
       "    </tr>\n",
       "    <tr>\n",
       "      <th>mean</th>\n",
       "      <td>234.768293</td>\n",
       "      <td>234.768293</td>\n",
       "      <td>236.351113</td>\n",
       "      <td>231.831206</td>\n",
       "    </tr>\n",
       "    <tr>\n",
       "      <th>std</th>\n",
       "      <td>10.221511</td>\n",
       "      <td>6.122843</td>\n",
       "      <td>6.236570</td>\n",
       "      <td>9.888230</td>\n",
       "    </tr>\n",
       "    <tr>\n",
       "      <th>min</th>\n",
       "      <td>187.134670</td>\n",
       "      <td>187.134670</td>\n",
       "      <td>187.134670</td>\n",
       "      <td>187.134670</td>\n",
       "    </tr>\n",
       "    <tr>\n",
       "      <th>25%</th>\n",
       "      <td>229.694352</td>\n",
       "      <td>234.768293</td>\n",
       "      <td>237.238552</td>\n",
       "      <td>223.340211</td>\n",
       "    </tr>\n",
       "    <tr>\n",
       "      <th>50%</th>\n",
       "      <td>237.238552</td>\n",
       "      <td>234.768293</td>\n",
       "      <td>237.238552</td>\n",
       "      <td>233.721360</td>\n",
       "    </tr>\n",
       "    <tr>\n",
       "      <th>75%</th>\n",
       "      <td>241.995486</td>\n",
       "      <td>234.768293</td>\n",
       "      <td>237.238552</td>\n",
       "      <td>239.951138</td>\n",
       "    </tr>\n",
       "    <tr>\n",
       "      <th>max</th>\n",
       "      <td>253.420961</td>\n",
       "      <td>253.420961</td>\n",
       "      <td>253.420961</td>\n",
       "      <td>253.420961</td>\n",
       "    </tr>\n",
       "  </tbody>\n",
       "</table>\n",
       "</div>"
      ],
      "text/plain": [
       "       AVG_MATH_4_SCORE  AVG_MATH_4_SCORE  AVG_MATH_4_SCORE  AVG_MATH_4_SCORE\n",
       "count        536.000000       1492.000000       1492.000000       1492.000000\n",
       "mean         234.768293        234.768293        236.351113        231.831206\n",
       "std           10.221511          6.122843          6.236570          9.888230\n",
       "min          187.134670        187.134670        187.134670        187.134670\n",
       "25%          229.694352        234.768293        237.238552        223.340211\n",
       "50%          237.238552        234.768293        237.238552        233.721360\n",
       "75%          241.995486        234.768293        237.238552        239.951138\n",
       "max          253.420961        253.420961        253.420961        253.420961"
      ]
     },
     "metadata": {},
     "output_type": "display_data"
    },
    {
     "data": {
      "text/plain": [
       "'AVG_MATH_8_SCORE sutunu icin istatistikler:'"
      ]
     },
     "metadata": {},
     "output_type": "display_data"
    },
    {
     "data": {
      "text/html": [
       "<div>\n",
       "<style scoped>\n",
       "    .dataframe tbody tr th:only-of-type {\n",
       "        vertical-align: middle;\n",
       "    }\n",
       "\n",
       "    .dataframe tbody tr th {\n",
       "        vertical-align: top;\n",
       "    }\n",
       "\n",
       "    .dataframe thead th {\n",
       "        text-align: right;\n",
       "    }\n",
       "</style>\n",
       "<table border=\"1\" class=\"dataframe\">\n",
       "  <thead>\n",
       "    <tr style=\"text-align: right;\">\n",
       "      <th></th>\n",
       "      <th>AVG_MATH_8_SCORE</th>\n",
       "      <th>AVG_MATH_8_SCORE</th>\n",
       "      <th>AVG_MATH_8_SCORE</th>\n",
       "      <th>AVG_MATH_8_SCORE</th>\n",
       "    </tr>\n",
       "  </thead>\n",
       "  <tbody>\n",
       "    <tr>\n",
       "      <th>count</th>\n",
       "      <td>532.000000</td>\n",
       "      <td>1492.000000</td>\n",
       "      <td>1492.000000</td>\n",
       "      <td>1492.000000</td>\n",
       "    </tr>\n",
       "    <tr>\n",
       "      <th>mean</th>\n",
       "      <td>278.414711</td>\n",
       "      <td>278.414711</td>\n",
       "      <td>279.832894</td>\n",
       "      <td>274.751965</td>\n",
       "    </tr>\n",
       "    <tr>\n",
       "      <th>std</th>\n",
       "      <td>10.159722</td>\n",
       "      <td>6.063038</td>\n",
       "      <td>6.154327</td>\n",
       "      <td>8.676490</td>\n",
       "    </tr>\n",
       "    <tr>\n",
       "      <th>min</th>\n",
       "      <td>232.831510</td>\n",
       "      <td>232.831510</td>\n",
       "      <td>232.831510</td>\n",
       "      <td>232.831510</td>\n",
       "    </tr>\n",
       "    <tr>\n",
       "      <th>25%</th>\n",
       "      <td>272.761598</td>\n",
       "      <td>278.414711</td>\n",
       "      <td>280.618803</td>\n",
       "      <td>268.959808</td>\n",
       "    </tr>\n",
       "    <tr>\n",
       "      <th>50%</th>\n",
       "      <td>280.618803</td>\n",
       "      <td>278.414711</td>\n",
       "      <td>280.618803</td>\n",
       "      <td>274.343601</td>\n",
       "    </tr>\n",
       "    <tr>\n",
       "      <th>75%</th>\n",
       "      <td>285.347428</td>\n",
       "      <td>278.414711</td>\n",
       "      <td>280.618803</td>\n",
       "      <td>281.420997</td>\n",
       "    </tr>\n",
       "    <tr>\n",
       "      <th>max</th>\n",
       "      <td>300.568235</td>\n",
       "      <td>300.568235</td>\n",
       "      <td>300.568235</td>\n",
       "      <td>300.568235</td>\n",
       "    </tr>\n",
       "  </tbody>\n",
       "</table>\n",
       "</div>"
      ],
      "text/plain": [
       "       AVG_MATH_8_SCORE  AVG_MATH_8_SCORE  AVG_MATH_8_SCORE  AVG_MATH_8_SCORE\n",
       "count        532.000000       1492.000000       1492.000000       1492.000000\n",
       "mean         278.414711        278.414711        279.832894        274.751965\n",
       "std           10.159722          6.063038          6.154327          8.676490\n",
       "min          232.831510        232.831510        232.831510        232.831510\n",
       "25%          272.761598        278.414711        280.618803        268.959808\n",
       "50%          280.618803        278.414711        280.618803        274.343601\n",
       "75%          285.347428        278.414711        280.618803        281.420997\n",
       "max          300.568235        300.568235        300.568235        300.568235"
      ]
     },
     "metadata": {},
     "output_type": "display_data"
    },
    {
     "data": {
      "text/plain": [
       "'AVG_READING_4_SCORE sutunu icin istatistikler:'"
      ]
     },
     "metadata": {},
     "output_type": "display_data"
    },
    {
     "data": {
      "text/html": [
       "<div>\n",
       "<style scoped>\n",
       "    .dataframe tbody tr th:only-of-type {\n",
       "        vertical-align: middle;\n",
       "    }\n",
       "\n",
       "    .dataframe tbody tr th {\n",
       "        vertical-align: top;\n",
       "    }\n",
       "\n",
       "    .dataframe thead th {\n",
       "        text-align: right;\n",
       "    }\n",
       "</style>\n",
       "<table border=\"1\" class=\"dataframe\">\n",
       "  <thead>\n",
       "    <tr style=\"text-align: right;\">\n",
       "      <th></th>\n",
       "      <th>AVG_READING_4_SCORE</th>\n",
       "      <th>AVG_READING_4_SCORE</th>\n",
       "      <th>AVG_READING_4_SCORE</th>\n",
       "      <th>AVG_READING_4_SCORE</th>\n",
       "    </tr>\n",
       "  </thead>\n",
       "  <tbody>\n",
       "    <tr>\n",
       "      <th>count</th>\n",
       "      <td>533.000000</td>\n",
       "      <td>1492.000000</td>\n",
       "      <td>1492.000000</td>\n",
       "      <td>1492.000000</td>\n",
       "    </tr>\n",
       "    <tr>\n",
       "      <th>mean</th>\n",
       "      <td>218.866154</td>\n",
       "      <td>218.866154</td>\n",
       "      <td>219.862357</td>\n",
       "      <td>218.278270</td>\n",
       "    </tr>\n",
       "    <tr>\n",
       "      <th>std</th>\n",
       "      <td>7.769616</td>\n",
       "      <td>4.641053</td>\n",
       "      <td>4.700141</td>\n",
       "      <td>6.095477</td>\n",
       "    </tr>\n",
       "    <tr>\n",
       "      <th>min</th>\n",
       "      <td>178.557612</td>\n",
       "      <td>178.557612</td>\n",
       "      <td>178.557612</td>\n",
       "      <td>178.557612</td>\n",
       "    </tr>\n",
       "    <tr>\n",
       "      <th>25%</th>\n",
       "      <td>214.663401</td>\n",
       "      <td>218.866154</td>\n",
       "      <td>220.416034</td>\n",
       "      <td>214.568273</td>\n",
       "    </tr>\n",
       "    <tr>\n",
       "      <th>50%</th>\n",
       "      <td>220.416034</td>\n",
       "      <td>218.866154</td>\n",
       "      <td>220.416034</td>\n",
       "      <td>218.954112</td>\n",
       "    </tr>\n",
       "    <tr>\n",
       "      <th>75%</th>\n",
       "      <td>223.999337</td>\n",
       "      <td>218.866154</td>\n",
       "      <td>220.416034</td>\n",
       "      <td>222.376359</td>\n",
       "    </tr>\n",
       "    <tr>\n",
       "      <th>max</th>\n",
       "      <td>236.773867</td>\n",
       "      <td>236.773867</td>\n",
       "      <td>236.773867</td>\n",
       "      <td>236.773867</td>\n",
       "    </tr>\n",
       "  </tbody>\n",
       "</table>\n",
       "</div>"
      ],
      "text/plain": [
       "       AVG_READING_4_SCORE  AVG_READING_4_SCORE  AVG_READING_4_SCORE  \\\n",
       "count           533.000000          1492.000000          1492.000000   \n",
       "mean            218.866154           218.866154           219.862357   \n",
       "std               7.769616             4.641053             4.700141   \n",
       "min             178.557612           178.557612           178.557612   \n",
       "25%             214.663401           218.866154           220.416034   \n",
       "50%             220.416034           218.866154           220.416034   \n",
       "75%             223.999337           218.866154           220.416034   \n",
       "max             236.773867           236.773867           236.773867   \n",
       "\n",
       "       AVG_READING_4_SCORE  \n",
       "count          1492.000000  \n",
       "mean            218.278270  \n",
       "std               6.095477  \n",
       "min             178.557612  \n",
       "25%             214.568273  \n",
       "50%             218.954112  \n",
       "75%             222.376359  \n",
       "max             236.773867  "
      ]
     },
     "metadata": {},
     "output_type": "display_data"
    },
    {
     "data": {
      "text/plain": [
       "'AVG_READING_8_SCORE sutunu icin istatistikler:'"
      ]
     },
     "metadata": {},
     "output_type": "display_data"
    },
    {
     "data": {
      "text/html": [
       "<div>\n",
       "<style scoped>\n",
       "    .dataframe tbody tr th:only-of-type {\n",
       "        vertical-align: middle;\n",
       "    }\n",
       "\n",
       "    .dataframe tbody tr th {\n",
       "        vertical-align: top;\n",
       "    }\n",
       "\n",
       "    .dataframe thead th {\n",
       "        text-align: right;\n",
       "    }\n",
       "</style>\n",
       "<table border=\"1\" class=\"dataframe\">\n",
       "  <thead>\n",
       "    <tr style=\"text-align: right;\">\n",
       "      <th></th>\n",
       "      <th>AVG_READING_8_SCORE</th>\n",
       "      <th>AVG_READING_8_SCORE</th>\n",
       "      <th>AVG_READING_8_SCORE</th>\n",
       "      <th>AVG_READING_8_SCORE</th>\n",
       "    </tr>\n",
       "  </thead>\n",
       "  <tbody>\n",
       "    <tr>\n",
       "      <th>count</th>\n",
       "      <td>498.000000</td>\n",
       "      <td>1492.000000</td>\n",
       "      <td>1492.000000</td>\n",
       "      <td>1491.000000</td>\n",
       "    </tr>\n",
       "    <tr>\n",
       "      <th>mean</th>\n",
       "      <td>263.661132</td>\n",
       "      <td>263.661132</td>\n",
       "      <td>264.560382</td>\n",
       "      <td>262.125714</td>\n",
       "    </tr>\n",
       "    <tr>\n",
       "      <th>std</th>\n",
       "      <td>6.803725</td>\n",
       "      <td>3.928132</td>\n",
       "      <td>3.979401</td>\n",
       "      <td>5.310612</td>\n",
       "    </tr>\n",
       "    <tr>\n",
       "      <th>min</th>\n",
       "      <td>236.379102</td>\n",
       "      <td>236.379102</td>\n",
       "      <td>236.379102</td>\n",
       "      <td>236.379102</td>\n",
       "    </tr>\n",
       "    <tr>\n",
       "      <th>25%</th>\n",
       "      <td>259.533171</td>\n",
       "      <td>263.661132</td>\n",
       "      <td>265.010912</td>\n",
       "      <td>258.619193</td>\n",
       "    </tr>\n",
       "    <tr>\n",
       "      <th>50%</th>\n",
       "      <td>265.010912</td>\n",
       "      <td>263.661132</td>\n",
       "      <td>265.010912</td>\n",
       "      <td>261.079602</td>\n",
       "    </tr>\n",
       "    <tr>\n",
       "      <th>75%</th>\n",
       "      <td>268.190121</td>\n",
       "      <td>263.661132</td>\n",
       "      <td>265.010912</td>\n",
       "      <td>266.227052</td>\n",
       "    </tr>\n",
       "    <tr>\n",
       "      <th>max</th>\n",
       "      <td>280.499130</td>\n",
       "      <td>280.499130</td>\n",
       "      <td>280.499130</td>\n",
       "      <td>280.499130</td>\n",
       "    </tr>\n",
       "  </tbody>\n",
       "</table>\n",
       "</div>"
      ],
      "text/plain": [
       "       AVG_READING_8_SCORE  AVG_READING_8_SCORE  AVG_READING_8_SCORE  \\\n",
       "count           498.000000          1492.000000          1492.000000   \n",
       "mean            263.661132           263.661132           264.560382   \n",
       "std               6.803725             3.928132             3.979401   \n",
       "min             236.379102           236.379102           236.379102   \n",
       "25%             259.533171           263.661132           265.010912   \n",
       "50%             265.010912           263.661132           265.010912   \n",
       "75%             268.190121           263.661132           265.010912   \n",
       "max             280.499130           280.499130           280.499130   \n",
       "\n",
       "       AVG_READING_8_SCORE  \n",
       "count          1491.000000  \n",
       "mean            262.125714  \n",
       "std               5.310612  \n",
       "min             236.379102  \n",
       "25%             258.619193  \n",
       "50%             261.079602  \n",
       "75%             266.227052  \n",
       "max             280.499130  "
      ]
     },
     "metadata": {},
     "output_type": "display_data"
    }
   ],
   "source": [
    "for col in fill_list:\n",
    "    display (\"{} sutunu icin istatistikler:\".format(col))\n",
    "    display(pd.concat([states_all[col],states_all2[col], states_all3[col], states_all4[col]], axis=1).describe())"
   ]
  },
  {
   "cell_type": "code",
   "execution_count": null,
   "metadata": {},
   "outputs": [],
   "source": []
  }
 ],
 "metadata": {
  "kernelspec": {
   "display_name": "Python 3",
   "language": "python",
   "name": "python3"
  },
  "language_info": {
   "codemirror_mode": {
    "name": "ipython",
    "version": 3
   },
   "file_extension": ".py",
   "mimetype": "text/x-python",
   "name": "python",
   "nbconvert_exporter": "python",
   "pygments_lexer": "ipython3",
   "version": "3.7.2"
  }
 },
 "nbformat": 4,
 "nbformat_minor": 2
}
