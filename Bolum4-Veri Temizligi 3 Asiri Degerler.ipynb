{
 "cells": [
  {
   "cell_type": "code",
   "execution_count": 46,
   "metadata": {},
   "outputs": [],
   "source": [
    "import pandas as pd\n",
    "import matplotlib.pyplot as plt\n",
    "import warnings\n",
    "\n",
    "warnings.filterwarnings('ignore')\n",
    "pd.options.display.float_format = '{:.2f}'.format"
   ]
  },
  {
   "cell_type": "markdown",
   "metadata": {},
   "source": [
    "1. Toplam gelir verilerini içeren TOTAL_REVENUE ve toplam harcama verilerini içeren TOTAL_EXPENDITURE değişkenlerini inceleyin. Bu değişkenler aykırı değerler içeriyor mu?\n",
    "\n",
    "2. Toplam gelir (TOTAL_REVENUE) ve toplam harcama (TOTAL_EXPENDITURE) değişkenlerinde aykırı değer tespit ettiyseniz bu derste öğrendiğiniz teknikleri uygulayarak bu aykırı değerleri ortadan kaldırın ve bunu yaptıktan sonra hiçbir aykırı değer kalmadığını doğrulayın.\n",
    "\n",
    "3. Toplam gelir (TOTAL_REVENUE) değişkeninden, toplam harcama (TOTAL_EXPENDITURE) değerini çıkartarak bütçe açığı olarak düşünülebilecek bir değişken oluşturun (aykırı değerleri temezlemeden). Bu yeni değişkende de aykırı değerler yer almakta mı? Varsa bu aykırı değerleri de temizleyin.\n",
    "\n",
    "4. Yine toplam gelir (TOTAL_REVENUE) değişkeninden, toplam harcama(TOTAL_EXPENDITURE) değerini çıkartarak bütçe açığı olarak düşünülebilecek bir değişken oluşturun. Fakat bu sefer aykırı değerleri temezledikten sonra bu işlemi yapın. Bu yeni değişkende de aykırı değerler var mı? Varsa bunları da temizlemekte fayda var.\n",
    "\n",
    "5. Şimdi elimizde üçüncü ve ve dördüncü sorularda oluşturduğumuz iki farklı bütçe değişkeni var. Bu ikisi arasında fark görüyor musunuz?\n",
    "\n",
    "6. Bizim için bütçe açığı çok önemli bir değişken olsaydı aykırı değerleri temizlemek için hangi yöntem daha iyi olurdu. Üçüncü soruda uguladığınız yöntem mi yoksa dördüncü sorudaki yöntem mi?\n",
    "\n"
   ]
  },
  {
   "cell_type": "code",
   "execution_count": 47,
   "metadata": {},
   "outputs": [],
   "source": [
    "states_all = pd.read_csv(\"states_all.csv\")"
   ]
  },
  {
   "cell_type": "code",
   "execution_count": 48,
   "metadata": {},
   "outputs": [
    {
     "data": {
      "text/html": [
       "<div>\n",
       "<style scoped>\n",
       "    .dataframe tbody tr th:only-of-type {\n",
       "        vertical-align: middle;\n",
       "    }\n",
       "\n",
       "    .dataframe tbody tr th {\n",
       "        vertical-align: top;\n",
       "    }\n",
       "\n",
       "    .dataframe thead th {\n",
       "        text-align: right;\n",
       "    }\n",
       "</style>\n",
       "<table border=\"1\" class=\"dataframe\">\n",
       "  <thead>\n",
       "    <tr style=\"text-align: right;\">\n",
       "      <th></th>\n",
       "      <th>PRIMARY_KEY</th>\n",
       "      <th>STATE</th>\n",
       "      <th>YEAR</th>\n",
       "      <th>ENROLL</th>\n",
       "      <th>TOTAL_REVENUE</th>\n",
       "      <th>FEDERAL_REVENUE</th>\n",
       "      <th>STATE_REVENUE</th>\n",
       "      <th>LOCAL_REVENUE</th>\n",
       "      <th>TOTAL_EXPENDITURE</th>\n",
       "      <th>INSTRUCTION_EXPENDITURE</th>\n",
       "      <th>...</th>\n",
       "      <th>GRADES_4_G</th>\n",
       "      <th>GRADES_8_G</th>\n",
       "      <th>GRADES_12_G</th>\n",
       "      <th>GRADES_1_8_G</th>\n",
       "      <th>GRADES_9_12_G</th>\n",
       "      <th>GRADES_ALL_G</th>\n",
       "      <th>AVG_MATH_4_SCORE</th>\n",
       "      <th>AVG_MATH_8_SCORE</th>\n",
       "      <th>AVG_READING_4_SCORE</th>\n",
       "      <th>AVG_READING_8_SCORE</th>\n",
       "    </tr>\n",
       "  </thead>\n",
       "  <tbody>\n",
       "    <tr>\n",
       "      <th>0</th>\n",
       "      <td>1992_ALABAMA</td>\n",
       "      <td>ALABAMA</td>\n",
       "      <td>1992</td>\n",
       "      <td>nan</td>\n",
       "      <td>2678885.00</td>\n",
       "      <td>304177.00</td>\n",
       "      <td>1659028.00</td>\n",
       "      <td>715680.00</td>\n",
       "      <td>2653798.00</td>\n",
       "      <td>1481703.00</td>\n",
       "      <td>...</td>\n",
       "      <td>57948.00</td>\n",
       "      <td>58025.00</td>\n",
       "      <td>41167.00</td>\n",
       "      <td>471564.00</td>\n",
       "      <td>196386.00</td>\n",
       "      <td>676174.00</td>\n",
       "      <td>208.33</td>\n",
       "      <td>252.19</td>\n",
       "      <td>207.96</td>\n",
       "      <td>nan</td>\n",
       "    </tr>\n",
       "    <tr>\n",
       "      <th>1</th>\n",
       "      <td>1992_ALASKA</td>\n",
       "      <td>ALASKA</td>\n",
       "      <td>1992</td>\n",
       "      <td>nan</td>\n",
       "      <td>1049591.00</td>\n",
       "      <td>106780.00</td>\n",
       "      <td>720711.00</td>\n",
       "      <td>222100.00</td>\n",
       "      <td>972488.00</td>\n",
       "      <td>498362.00</td>\n",
       "      <td>...</td>\n",
       "      <td>9748.00</td>\n",
       "      <td>8789.00</td>\n",
       "      <td>6714.00</td>\n",
       "      <td>79117.00</td>\n",
       "      <td>30847.00</td>\n",
       "      <td>112335.00</td>\n",
       "      <td>nan</td>\n",
       "      <td>nan</td>\n",
       "      <td>nan</td>\n",
       "      <td>258.86</td>\n",
       "    </tr>\n",
       "    <tr>\n",
       "      <th>2</th>\n",
       "      <td>1992_ARIZONA</td>\n",
       "      <td>ARIZONA</td>\n",
       "      <td>1992</td>\n",
       "      <td>nan</td>\n",
       "      <td>3258079.00</td>\n",
       "      <td>297888.00</td>\n",
       "      <td>1369815.00</td>\n",
       "      <td>1590376.00</td>\n",
       "      <td>3401580.00</td>\n",
       "      <td>1435908.00</td>\n",
       "      <td>...</td>\n",
       "      <td>55433.00</td>\n",
       "      <td>49081.00</td>\n",
       "      <td>37410.00</td>\n",
       "      <td>437127.00</td>\n",
       "      <td>175210.00</td>\n",
       "      <td>614881.00</td>\n",
       "      <td>215.25</td>\n",
       "      <td>265.37</td>\n",
       "      <td>206.21</td>\n",
       "      <td>262.17</td>\n",
       "    </tr>\n",
       "    <tr>\n",
       "      <th>3</th>\n",
       "      <td>1992_ARKANSAS</td>\n",
       "      <td>ARKANSAS</td>\n",
       "      <td>1992</td>\n",
       "      <td>nan</td>\n",
       "      <td>1711959.00</td>\n",
       "      <td>178571.00</td>\n",
       "      <td>958785.00</td>\n",
       "      <td>574603.00</td>\n",
       "      <td>1743022.00</td>\n",
       "      <td>964323.00</td>\n",
       "      <td>...</td>\n",
       "      <td>34632.00</td>\n",
       "      <td>36011.00</td>\n",
       "      <td>27651.00</td>\n",
       "      <td>281338.00</td>\n",
       "      <td>123113.00</td>\n",
       "      <td>405259.00</td>\n",
       "      <td>210.21</td>\n",
       "      <td>256.31</td>\n",
       "      <td>208.63</td>\n",
       "      <td>264.62</td>\n",
       "    </tr>\n",
       "    <tr>\n",
       "      <th>4</th>\n",
       "      <td>1992_CALIFORNIA</td>\n",
       "      <td>CALIFORNIA</td>\n",
       "      <td>1992</td>\n",
       "      <td>nan</td>\n",
       "      <td>26260025.00</td>\n",
       "      <td>2072470.00</td>\n",
       "      <td>16546514.00</td>\n",
       "      <td>7641041.00</td>\n",
       "      <td>27138832.00</td>\n",
       "      <td>14358922.00</td>\n",
       "      <td>...</td>\n",
       "      <td>418418.00</td>\n",
       "      <td>363296.00</td>\n",
       "      <td>270675.00</td>\n",
       "      <td>3286034.00</td>\n",
       "      <td>1372011.00</td>\n",
       "      <td>4717112.00</td>\n",
       "      <td>208.40</td>\n",
       "      <td>260.89</td>\n",
       "      <td>196.76</td>\n",
       "      <td>nan</td>\n",
       "    </tr>\n",
       "  </tbody>\n",
       "</table>\n",
       "<p>5 rows × 25 columns</p>\n",
       "</div>"
      ],
      "text/plain": [
       "       PRIMARY_KEY       STATE  YEAR  ENROLL  TOTAL_REVENUE  FEDERAL_REVENUE  \\\n",
       "0     1992_ALABAMA     ALABAMA  1992     nan     2678885.00        304177.00   \n",
       "1      1992_ALASKA      ALASKA  1992     nan     1049591.00        106780.00   \n",
       "2     1992_ARIZONA     ARIZONA  1992     nan     3258079.00        297888.00   \n",
       "3    1992_ARKANSAS    ARKANSAS  1992     nan     1711959.00        178571.00   \n",
       "4  1992_CALIFORNIA  CALIFORNIA  1992     nan    26260025.00       2072470.00   \n",
       "\n",
       "   STATE_REVENUE  LOCAL_REVENUE  TOTAL_EXPENDITURE  INSTRUCTION_EXPENDITURE  \\\n",
       "0     1659028.00      715680.00         2653798.00               1481703.00   \n",
       "1      720711.00      222100.00          972488.00                498362.00   \n",
       "2     1369815.00     1590376.00         3401580.00               1435908.00   \n",
       "3      958785.00      574603.00         1743022.00                964323.00   \n",
       "4    16546514.00     7641041.00        27138832.00              14358922.00   \n",
       "\n",
       "          ...           GRADES_4_G  GRADES_8_G  GRADES_12_G  GRADES_1_8_G  \\\n",
       "0         ...             57948.00    58025.00     41167.00     471564.00   \n",
       "1         ...              9748.00     8789.00      6714.00      79117.00   \n",
       "2         ...             55433.00    49081.00     37410.00     437127.00   \n",
       "3         ...             34632.00    36011.00     27651.00     281338.00   \n",
       "4         ...            418418.00   363296.00    270675.00    3286034.00   \n",
       "\n",
       "   GRADES_9_12_G  GRADES_ALL_G  AVG_MATH_4_SCORE  AVG_MATH_8_SCORE  \\\n",
       "0      196386.00     676174.00            208.33            252.19   \n",
       "1       30847.00     112335.00               nan               nan   \n",
       "2      175210.00     614881.00            215.25            265.37   \n",
       "3      123113.00     405259.00            210.21            256.31   \n",
       "4     1372011.00    4717112.00            208.40            260.89   \n",
       "\n",
       "   AVG_READING_4_SCORE  AVG_READING_8_SCORE  \n",
       "0               207.96                  nan  \n",
       "1                  nan               258.86  \n",
       "2               206.21               262.17  \n",
       "3               208.63               264.62  \n",
       "4               196.76                  nan  \n",
       "\n",
       "[5 rows x 25 columns]"
      ]
     },
     "execution_count": 48,
     "metadata": {},
     "output_type": "execute_result"
    }
   ],
   "source": [
    "states_all.head()"
   ]
  },
  {
   "cell_type": "markdown",
   "metadata": {},
   "source": [
    "Eyalet bazında enterpolasyon daha doğru olacaktır. "
   ]
  },
  {
   "cell_type": "code",
   "execution_count": 54,
   "metadata": {},
   "outputs": [
    {
     "name": "stdout",
     "output_type": "stream",
     "text": [
      "Index(['PRIMARY_KEY', 'STATE', 'YEAR', 'ENROLL', 'TOTAL_REVENUE',\n",
      "       'FEDERAL_REVENUE', 'STATE_REVENUE', 'LOCAL_REVENUE',\n",
      "       'TOTAL_EXPENDITURE', 'INSTRUCTION_EXPENDITURE',\n",
      "       'SUPPORT_SERVICES_EXPENDITURE', 'OTHER_EXPENDITURE',\n",
      "       'CAPITAL_OUTLAY_EXPENDITURE', 'GRADES_PK_G', 'GRADES_KG_G',\n",
      "       'GRADES_4_G', 'GRADES_8_G', 'GRADES_12_G', 'GRADES_1_8_G',\n",
      "       'GRADES_9_12_G', 'GRADES_ALL_G', 'AVG_MATH_4_SCORE', 'AVG_MATH_8_SCORE',\n",
      "       'AVG_READING_4_SCORE', 'AVG_READING_8_SCORE'],\n",
      "      dtype='object')\n"
     ]
    }
   ],
   "source": [
    "sutunlar = states_all.columns\n",
    "print(sutunlar)"
   ]
  },
  {
   "cell_type": "code",
   "execution_count": 56,
   "metadata": {},
   "outputs": [],
   "source": [
    "# 4 sutundaki kayip degerlerin asiri olmasindan oturu listeden cikartilmisti.\n",
    "#AVG_MATH_4_SCORE               0.64\n",
    "#AVG_MATH_8_SCORE               0.64\n",
    "#AVG_READING_4_SCORE            0.64\n",
    "#AVG_READING_8_SCORE            0.67\n",
    "\n",
    "fill_list = ['PRIMARY_KEY', 'STATE', 'YEAR', 'ENROLL', 'TOTAL_REVENUE',\n",
    "       'FEDERAL_REVENUE', 'STATE_REVENUE', 'LOCAL_REVENUE',\n",
    "       'TOTAL_EXPENDITURE', 'INSTRUCTION_EXPENDITURE',\n",
    "       'SUPPORT_SERVICES_EXPENDITURE', 'OTHER_EXPENDITURE',\n",
    "       'CAPITAL_OUTLAY_EXPENDITURE', 'GRADES_PK_G', 'GRADES_KG_G',\n",
    "       'GRADES_4_G', 'GRADES_8_G', 'GRADES_12_G', 'GRADES_1_8_G',\n",
    "       'GRADES_9_12_G', 'GRADES_ALL_G']"
   ]
  },
  {
   "cell_type": "code",
   "execution_count": 57,
   "metadata": {},
   "outputs": [],
   "source": [
    "states = states_all[\"STATE\"].unique()\n",
    "\n",
    "for state in states:\n",
    "    states_all.loc[states_all[\"STATE\"] == state, fill_list] = states_all.loc[states_all[\"STATE\"] == state, fill_list].interpolate()\n",
    "\n",
    "states_all.dropna(inplace=True)"
   ]
  },
  {
   "cell_type": "markdown",
   "metadata": {},
   "source": [
    "1.Toplam gelir verilerini içeren TOTAL_REVENUE ve toplam harcama verilerini içeren TOTAL_EXPENDITURE değişkenlerini inceleyin. Bu değişkenler aykırı değerler içeriyor mu?"
   ]
  },
  {
   "cell_type": "code",
   "execution_count": 58,
   "metadata": {},
   "outputs": [
    {
     "data": {
      "image/png": "[encoded data removed]",
      "text/plain": [
       "<Figure size 1500x500 with 2 Axes>"
      ]
     },
     "metadata": {
      "needs_background": "light"
     },
     "output_type": "display_data"
    }
   ],
   "source": [
    "plt.figure(figsize = (15,5))\n",
    "\n",
    "plt.subplot(1,2,1)\n",
    "plt.hist(states_all[\"TOTAL_REVENUE\"])\n",
    "plt.title(\"total revenue\")\n",
    "\n",
    "plt.subplot(1,2,2)\n",
    "plt.hist(states_all[\"TOTAL_EXPENDITURE\"])\n",
    "plt.title(\"total expenditure\")\n",
    "plt.show()"
   ]
  },
  {
   "cell_type": "code",
   "execution_count": 60,
   "metadata": {},
   "outputs": [
    {
     "data": {
      "image/png": "[encoded data removed]",
      "text/plain": [
       "<Figure size 1500x500 with 2 Axes>"
      ]
     },
     "metadata": {
      "needs_background": "light"
     },
     "output_type": "display_data"
    }
   ],
   "source": [
    "plt.figure(figsize = (15,5))\n",
    "\n",
    "plt.subplot(1,2,1)\n",
    "plt.boxplot(states_all[\"TOTAL_REVENUE\"])\n",
    "plt.title(\"total revenue\")\n",
    "\n",
    "plt.subplot(1,2,2)\n",
    "plt.boxplot(states_all[\"TOTAL_EXPENDITURE\"])\n",
    "plt.title(\"total expenditure\")\n",
    "plt.show()"
   ]
  },
  {
   "cell_type": "markdown",
   "metadata": {},
   "source": [
    "Her ikisinde de asiri degerler mevcut"
   ]
  },
  {
   "cell_type": "markdown",
   "metadata": {},
   "source": []
  },
  {
   "cell_type": "markdown",
   "metadata": {},
   "source": [
    "2.Toplam gelir (TOTAL_REVENUE) ve toplam harcama (TOTAL_EXPENDITURE) değişkenlerinde aykırı değer tespit ettiyseniz bu derste öğrendiğiniz teknikleri uygulayarak bu aykırı değerleri ortadan kaldırın ve bunu yaptıktan sonra hiçbir aykırı değer kalmadığını doğrulayın.\n",
    "#Ayriki degerlerimiz (Ortalama - Tstandart sapma, Ortalama + Tstandart sapma) "
   ]
  },
  {
   "cell_type": "code",
   "execution_count": 72,
   "metadata": {},
   "outputs": [],
   "source": [
    "from scipy.stats.mstats import winsorize"
   ]
  },
  {
   "cell_type": "code",
   "execution_count": 80,
   "metadata": {},
   "outputs": [],
   "source": [
    "winsorize_revenue = winsorize(states_all[\"TOTAL_REVENUE\"], (0, 0.10))\n",
    "winsorize_expenditure = winsorize(states_all[\"TOTAL_EXPENDITURE\"], (0, 0.10))"
   ]
  },
  {
   "cell_type": "code",
   "execution_count": 84,
   "metadata": {},
   "outputs": [
    {
     "data": {
      "image/png": "[encoded data removed]",
      "text/plain": [
       "<Figure size 1500x500 with 2 Axes>"
      ]
     },
     "metadata": {
      "needs_background": "light"
     },
     "output_type": "display_data"
    }
   ],
   "source": [
    "plt.figure(figsize=(15,5))\n",
    "\n",
    "plt.subplot(1,2,1)\n",
    "plt.boxplot(winsorize_revenue)\n",
    "plt.title(\"Sinirlandirilmis Total Revenue Grafigi (whis=1.5)\", fontdict=baslik_font)\n",
    "\n",
    "plt.subplot(1,2,2)\n",
    "plt.boxplot(winsorize_expenditure)\n",
    "plt.title(\"Sinirlandirilmis Total Expenditure Grafigi (whis=1.5)\", fontdict=baslik_font)\n",
    "\n",
    "plt.show()"
   ]
  },
  {
   "cell_type": "code",
   "execution_count": 85,
   "metadata": {},
   "outputs": [
    {
     "data": {
      "image/png": "[encoded data removed]",
      "text/plain": [
       "<Figure size 1500x500 with 2 Axes>"
      ]
     },
     "metadata": {
      "needs_background": "light"
     },
     "output_type": "display_data"
    }
   ],
   "source": [
    "plt.figure(figsize = (15,5))\n",
    "\n",
    "plt.subplot(1,2,1)\n",
    "plt.hist(winsorize_revenue)\n",
    "plt.title(\"total revenue\")\n",
    "\n",
    "plt.subplot(1,2,2)\n",
    "plt.hist(winsorize_expenditure)\n",
    "plt.title(\"total expenditure\")\n",
    "plt.show()"
   ]
  },
  {
   "cell_type": "markdown",
   "metadata": {},
   "source": [
    "Degerler temizlenmis gibi gorunmekte. "
   ]
  },
  {
   "cell_type": "markdown",
   "metadata": {},
   "source": []
  },
  {
   "cell_type": "markdown",
   "metadata": {},
   "source": [
    "3. Toplam gelir (TOTAL_REVENUE) değişkeninden, toplam harcama (TOTAL_EXPENDITURE) değerini çıkartarak bütçe açığı olarak düşünülebilecek bir değişken oluşturun (aykırı değerleri temezlemeden). Bu yeni değişkende de aykırı değerler yer almakta mı? Varsa bu aykırı değerleri de temizleyin."
   ]
  },
  {
   "cell_type": "code",
   "execution_count": 98,
   "metadata": {},
   "outputs": [
    {
     "data": {
      "text/html": [
       "<div>\n",
       "<style scoped>\n",
       "    .dataframe tbody tr th:only-of-type {\n",
       "        vertical-align: middle;\n",
       "    }\n",
       "\n",
       "    .dataframe tbody tr th {\n",
       "        vertical-align: top;\n",
       "    }\n",
       "\n",
       "    .dataframe thead th {\n",
       "        text-align: right;\n",
       "    }\n",
       "</style>\n",
       "<table border=\"1\" class=\"dataframe\">\n",
       "  <thead>\n",
       "    <tr style=\"text-align: right;\">\n",
       "      <th></th>\n",
       "      <th>PRIMARY_KEY</th>\n",
       "      <th>STATE</th>\n",
       "      <th>YEAR</th>\n",
       "      <th>ENROLL</th>\n",
       "      <th>TOTAL_REVENUE</th>\n",
       "      <th>FEDERAL_REVENUE</th>\n",
       "      <th>STATE_REVENUE</th>\n",
       "      <th>LOCAL_REVENUE</th>\n",
       "      <th>TOTAL_EXPENDITURE</th>\n",
       "      <th>INSTRUCTION_EXPENDITURE</th>\n",
       "      <th>...</th>\n",
       "      <th>GRADES_8_G</th>\n",
       "      <th>GRADES_12_G</th>\n",
       "      <th>GRADES_1_8_G</th>\n",
       "      <th>GRADES_9_12_G</th>\n",
       "      <th>GRADES_ALL_G</th>\n",
       "      <th>AVG_MATH_4_SCORE</th>\n",
       "      <th>AVG_MATH_8_SCORE</th>\n",
       "      <th>AVG_READING_4_SCORE</th>\n",
       "      <th>AVG_READING_8_SCORE</th>\n",
       "      <th>budget_deficit</th>\n",
       "    </tr>\n",
       "  </thead>\n",
       "  <tbody>\n",
       "    <tr>\n",
       "      <th>204</th>\n",
       "      <td>1996_ALABAMA</td>\n",
       "      <td>ALABAMA</td>\n",
       "      <td>1996</td>\n",
       "      <td>735912.00</td>\n",
       "      <td>3365113.00</td>\n",
       "      <td>334858.00</td>\n",
       "      <td>2138717.00</td>\n",
       "      <td>891538.00</td>\n",
       "      <td>3572283.00</td>\n",
       "      <td>1987018.00</td>\n",
       "      <td>...</td>\n",
       "      <td>58305.00</td>\n",
       "      <td>42510.00</td>\n",
       "      <td>469370.00</td>\n",
       "      <td>207980.00</td>\n",
       "      <td>686983.00</td>\n",
       "      <td>211.65</td>\n",
       "      <td>256.59</td>\n",
       "      <td>210.92</td>\n",
       "      <td>260.28</td>\n",
       "      <td>-207170</td>\n",
       "    </tr>\n",
       "    <tr>\n",
       "      <th>206</th>\n",
       "      <td>1996_ARIZONA</td>\n",
       "      <td>ARIZONA</td>\n",
       "      <td>1996</td>\n",
       "      <td>764681.00</td>\n",
       "      <td>4143304.00</td>\n",
       "      <td>378917.00</td>\n",
       "      <td>1798363.00</td>\n",
       "      <td>1966024.00</td>\n",
       "      <td>4391555.00</td>\n",
       "      <td>1860007.00</td>\n",
       "      <td>...</td>\n",
       "      <td>60514.00</td>\n",
       "      <td>42041.00</td>\n",
       "      <td>511925.00</td>\n",
       "      <td>210289.00</td>\n",
       "      <td>726709.00</td>\n",
       "      <td>217.58</td>\n",
       "      <td>267.87</td>\n",
       "      <td>206.53</td>\n",
       "      <td>263.28</td>\n",
       "      <td>-248251</td>\n",
       "    </tr>\n",
       "    <tr>\n",
       "      <th>207</th>\n",
       "      <td>1996_ARKANSAS</td>\n",
       "      <td>ARKANSAS</td>\n",
       "      <td>1996</td>\n",
       "      <td>452907.00</td>\n",
       "      <td>2183384.00</td>\n",
       "      <td>192152.00</td>\n",
       "      <td>1296247.00</td>\n",
       "      <td>694985.00</td>\n",
       "      <td>2297381.00</td>\n",
       "      <td>1264275.00</td>\n",
       "      <td>...</td>\n",
       "      <td>37064.00</td>\n",
       "      <td>27613.00</td>\n",
       "      <td>283883.00</td>\n",
       "      <td>131997.00</td>\n",
       "      <td>417860.00</td>\n",
       "      <td>215.85</td>\n",
       "      <td>261.65</td>\n",
       "      <td>208.84</td>\n",
       "      <td>271.83</td>\n",
       "      <td>-113997</td>\n",
       "    </tr>\n",
       "    <tr>\n",
       "      <th>208</th>\n",
       "      <td>1996_CALIFORNIA</td>\n",
       "      <td>CALIFORNIA</td>\n",
       "      <td>1996</td>\n",
       "      <td>5460484.00</td>\n",
       "      <td>31282981.00</td>\n",
       "      <td>2603882.00</td>\n",
       "      <td>17061474.00</td>\n",
       "      <td>11617625.00</td>\n",
       "      <td>31561692.00</td>\n",
       "      <td>16880730.00</td>\n",
       "      <td>...</td>\n",
       "      <td>406456.00</td>\n",
       "      <td>298669.00</td>\n",
       "      <td>3516572.00</td>\n",
       "      <td>1525618.00</td>\n",
       "      <td>5115423.00</td>\n",
       "      <td>209.13</td>\n",
       "      <td>262.77</td>\n",
       "      <td>201.91</td>\n",
       "      <td>269.20</td>\n",
       "      <td>-278711</td>\n",
       "    </tr>\n",
       "    <tr>\n",
       "      <th>209</th>\n",
       "      <td>1996_COLORADO</td>\n",
       "      <td>COLORADO</td>\n",
       "      <td>1996</td>\n",
       "      <td>655679.00</td>\n",
       "      <td>3891203.00</td>\n",
       "      <td>194998.00</td>\n",
       "      <td>1664676.00</td>\n",
       "      <td>2031529.00</td>\n",
       "      <td>4075165.00</td>\n",
       "      <td>2052264.00</td>\n",
       "      <td>...</td>\n",
       "      <td>52269.00</td>\n",
       "      <td>37179.00</td>\n",
       "      <td>423510.00</td>\n",
       "      <td>185700.00</td>\n",
       "      <td>621730.00</td>\n",
       "      <td>225.81</td>\n",
       "      <td>275.61</td>\n",
       "      <td>221.65</td>\n",
       "      <td>268.17</td>\n",
       "      <td>-183962</td>\n",
       "    </tr>\n",
       "  </tbody>\n",
       "</table>\n",
       "<p>5 rows × 26 columns</p>\n",
       "</div>"
      ],
      "text/plain": [
       "         PRIMARY_KEY       STATE  YEAR     ENROLL  TOTAL_REVENUE  \\\n",
       "204     1996_ALABAMA     ALABAMA  1996  735912.00     3365113.00   \n",
       "206     1996_ARIZONA     ARIZONA  1996  764681.00     4143304.00   \n",
       "207    1996_ARKANSAS    ARKANSAS  1996  452907.00     2183384.00   \n",
       "208  1996_CALIFORNIA  CALIFORNIA  1996 5460484.00    31282981.00   \n",
       "209    1996_COLORADO    COLORADO  1996  655679.00     3891203.00   \n",
       "\n",
       "     FEDERAL_REVENUE  STATE_REVENUE  LOCAL_REVENUE  TOTAL_EXPENDITURE  \\\n",
       "204        334858.00     2138717.00      891538.00         3572283.00   \n",
       "206        378917.00     1798363.00     1966024.00         4391555.00   \n",
       "207        192152.00     1296247.00      694985.00         2297381.00   \n",
       "208       2603882.00    17061474.00    11617625.00        31561692.00   \n",
       "209        194998.00     1664676.00     2031529.00         4075165.00   \n",
       "\n",
       "     INSTRUCTION_EXPENDITURE       ...        GRADES_8_G  GRADES_12_G  \\\n",
       "204               1987018.00       ...          58305.00     42510.00   \n",
       "206               1860007.00       ...          60514.00     42041.00   \n",
       "207               1264275.00       ...          37064.00     27613.00   \n",
       "208              16880730.00       ...         406456.00    298669.00   \n",
       "209               2052264.00       ...          52269.00     37179.00   \n",
       "\n",
       "     GRADES_1_8_G  GRADES_9_12_G  GRADES_ALL_G  AVG_MATH_4_SCORE  \\\n",
       "204     469370.00      207980.00     686983.00            211.65   \n",
       "206     511925.00      210289.00     726709.00            217.58   \n",
       "207     283883.00      131997.00     417860.00            215.85   \n",
       "208    3516572.00     1525618.00    5115423.00            209.13   \n",
       "209     423510.00      185700.00     621730.00            225.81   \n",
       "\n",
       "     AVG_MATH_8_SCORE  AVG_READING_4_SCORE  AVG_READING_8_SCORE  \\\n",
       "204            256.59               210.92               260.28   \n",
       "206            267.87               206.53               263.28   \n",
       "207            261.65               208.84               271.83   \n",
       "208            262.77               201.91               269.20   \n",
       "209            275.61               221.65               268.17   \n",
       "\n",
       "     budget_deficit  \n",
       "204         -207170  \n",
       "206         -248251  \n",
       "207         -113997  \n",
       "208         -278711  \n",
       "209         -183962  \n",
       "\n",
       "[5 rows x 26 columns]"
      ]
     },
     "execution_count": 98,
     "metadata": {},
     "output_type": "execute_result"
    }
   ],
   "source": [
    "#Alternatif: budget_deficit = education_df.TOTAL_REVENUE - education_df.TOTAL_EXPENDITURE\n",
    "\n",
    "states_all['budget_deficit'] = (states_all['TOTAL_REVENUE'] - states_all['TOTAL_EXPENDITURE']).astype(int)\n",
    "states_all.head()"
   ]
  },
  {
   "cell_type": "code",
   "execution_count": 99,
   "metadata": {},
   "outputs": [
    {
     "data": {
      "image/png": "[encoded data removed]",
      "text/plain": [
       "<Figure size 800x550 with 1 Axes>"
      ]
     },
     "metadata": {
      "needs_background": "light"
     },
     "output_type": "display_data"
    }
   ],
   "source": [
    "# Yeni degisken budget_deficit aykiri degerler almakta\n",
    "plt.boxplot(states_all[\"budget_deficit\"], whis=5)\n",
    "plt.title(\" budget_deficit Kutu Grafigi (whis=5)\", fontdict=baslik_font)\n",
    "plt.show()"
   ]
  },
  {
   "cell_type": "code",
   "execution_count": 107,
   "metadata": {},
   "outputs": [],
   "source": [
    "budget_deficit = states_all[\"budget_deficit\"]\n",
    "winsorize_budget_deficit = winsorize(budget_deficit, (0.05,0.05))"
   ]
  },
  {
   "cell_type": "code",
   "execution_count": 109,
   "metadata": {},
   "outputs": [
    {
     "data": {
      "image/png": "[encoded data removed]",
      "text/plain": [
       "<Figure size 800x550 with 1 Axes>"
      ]
     },
     "metadata": {
      "needs_background": "light"
     },
     "output_type": "display_data"
    }
   ],
   "source": [
    "#Sinirlandirma sonrasi halen aykiri degerler mevcut\n",
    "plt.boxplot(winsorize_budget_deficit, whis=5)\n",
    "plt.title(\"Sinirlandirilmis budget_deficit Grafigi (whis=0.05)\", fontdict=baslik_font)\n",
    "plt.show()"
   ]
  },
  {
   "cell_type": "markdown",
   "metadata": {},
   "source": [
    "Asiri degerler araliktan temizlendi. "
   ]
  },
  {
   "cell_type": "markdown",
   "metadata": {},
   "source": []
  },
  {
   "cell_type": "markdown",
   "metadata": {},
   "source": [
    "4.Yine toplam gelir (TOTAL_REVENUE) değişkeninden, toplam harcama(TOTAL_EXPENDITURE) değerini çıkartarak bütçe açığı olarak düşünülebilecek bir değişken oluşturun. Fakat bu sefer aykırı değerleri temezledikten sonra bu işlemi yapın. Bu yeni değişkende de aykırı değerler var mı? Varsa bunları da temizlemekte fayda var."
   ]
  },
  {
   "cell_type": "code",
   "execution_count": 110,
   "metadata": {},
   "outputs": [],
   "source": [
    "budget_deficit2 = winsorize_revenue - winsorize_expenditure"
   ]
  },
  {
   "cell_type": "code",
   "execution_count": 116,
   "metadata": {},
   "outputs": [
    {
     "data": {
      "text/plain": [
       "Text(0.5, 1.0, 'Box plot of budget deficit2')"
      ]
     },
     "execution_count": 116,
     "metadata": {},
     "output_type": "execute_result"
    },
    {
     "data": {
      "image/png": "[encoded data removed]",
      "text/plain": [
       "<Figure size 800x550 with 1 Axes>"
      ]
     },
     "metadata": {
      "needs_background": "light"
     },
     "output_type": "display_data"
    }
   ],
   "source": [
    "plt.boxplot(budget_deficit2)\n",
    "plt.title(\"Box plot of budget deficit2\")\n"
   ]
  },
  {
   "cell_type": "markdown",
   "metadata": {},
   "source": [
    "Asiri degerler gorunuyor. "
   ]
  },
  {
   "cell_type": "code",
   "execution_count": 117,
   "metadata": {},
   "outputs": [],
   "source": [
    "winsorize_budget_deficit2 = winsorize(budget_deficit2, (0.05,0.05))"
   ]
  },
  {
   "cell_type": "code",
   "execution_count": 122,
   "metadata": {},
   "outputs": [
    {
     "data": {
      "text/plain": [
       "Text(0.5, 1.0, 'Box plot of winsorize budget deficit2')"
      ]
     },
     "execution_count": 122,
     "metadata": {},
     "output_type": "execute_result"
    },
    {
     "data": {
      "image/png": "[encoded data removed]",
      "text/plain": [
       "<Figure size 800x550 with 1 Axes>"
      ]
     },
     "metadata": {
      "needs_background": "light"
     },
     "output_type": "display_data"
    }
   ],
   "source": [
    "plt.boxplot(winsorize_budget_deficit2, whis=5)\n",
    "plt.title(\"Box plot of winsorize budget deficit2\")"
   ]
  },
  {
   "cell_type": "code",
   "execution_count": null,
   "metadata": {},
   "outputs": [],
   "source": []
  },
  {
   "cell_type": "markdown",
   "metadata": {},
   "source": []
  },
  {
   "cell_type": "markdown",
   "metadata": {},
   "source": [
    "5.Şimdi elimizde üçüncü ve ve dördüncü sorularda oluşturduğumuz iki farklı bütçe değişkeni var. Bu ikisi arasında fark görüyor musunuz?"
   ]
  },
  {
   "cell_type": "code",
   "execution_count": 126,
   "metadata": {},
   "outputs": [
    {
     "data": {
      "text/html": [
       "<div>\n",
       "<style scoped>\n",
       "    .dataframe tbody tr th:only-of-type {\n",
       "        vertical-align: middle;\n",
       "    }\n",
       "\n",
       "    .dataframe tbody tr th {\n",
       "        vertical-align: top;\n",
       "    }\n",
       "\n",
       "    .dataframe thead th {\n",
       "        text-align: right;\n",
       "    }\n",
       "</style>\n",
       "<table border=\"1\" class=\"dataframe\">\n",
       "  <thead>\n",
       "    <tr style=\"text-align: right;\">\n",
       "      <th></th>\n",
       "      <th>orijinal_budget_deficit</th>\n",
       "      <th>winsorize_budget_deficit</th>\n",
       "      <th>winsorize_budget_deficit2</th>\n",
       "    </tr>\n",
       "  </thead>\n",
       "  <tbody>\n",
       "    <tr>\n",
       "      <th>count</th>\n",
       "      <td>466.00</td>\n",
       "      <td>466.00</td>\n",
       "      <td>466.00</td>\n",
       "    </tr>\n",
       "    <tr>\n",
       "      <th>mean</th>\n",
       "      <td>-83297.61</td>\n",
       "      <td>-61210.33</td>\n",
       "      <td>41285.33</td>\n",
       "    </tr>\n",
       "    <tr>\n",
       "      <th>std</th>\n",
       "      <td>614896.18</td>\n",
       "      <td>342588.03</td>\n",
       "      <td>287195.32</td>\n",
       "    </tr>\n",
       "    <tr>\n",
       "      <th>min</th>\n",
       "      <td>-5487742.00</td>\n",
       "      <td>-921134.00</td>\n",
       "      <td>-526142.00</td>\n",
       "    </tr>\n",
       "    <tr>\n",
       "      <th>25%</th>\n",
       "      <td>-196574.75</td>\n",
       "      <td>-196574.75</td>\n",
       "      <td>-122661.75</td>\n",
       "    </tr>\n",
       "    <tr>\n",
       "      <th>50%</th>\n",
       "      <td>-12823.50</td>\n",
       "      <td>-12823.50</td>\n",
       "      <td>7504.00</td>\n",
       "    </tr>\n",
       "    <tr>\n",
       "      <th>75%</th>\n",
       "      <td>98523.50</td>\n",
       "      <td>98523.50</td>\n",
       "      <td>178526.25</td>\n",
       "    </tr>\n",
       "    <tr>\n",
       "      <th>max</th>\n",
       "      <td>3897129.00</td>\n",
       "      <td>560511.00</td>\n",
       "      <td>526078.00</td>\n",
       "    </tr>\n",
       "  </tbody>\n",
       "</table>\n",
       "</div>"
      ],
      "text/plain": [
       "       orijinal_budget_deficit  winsorize_budget_deficit  \\\n",
       "count                   466.00                    466.00   \n",
       "mean                 -83297.61                 -61210.33   \n",
       "std                  614896.18                 342588.03   \n",
       "min                -5487742.00                -921134.00   \n",
       "25%                 -196574.75                -196574.75   \n",
       "50%                  -12823.50                 -12823.50   \n",
       "75%                   98523.50                  98523.50   \n",
       "max                 3897129.00                 560511.00   \n",
       "\n",
       "       winsorize_budget_deficit2  \n",
       "count                     466.00  \n",
       "mean                    41285.33  \n",
       "std                    287195.32  \n",
       "min                   -526142.00  \n",
       "25%                   -122661.75  \n",
       "50%                      7504.00  \n",
       "75%                    178526.25  \n",
       "max                    526078.00  "
      ]
     },
     "execution_count": 126,
     "metadata": {},
     "output_type": "execute_result"
    }
   ],
   "source": [
    "pd.DataFrame({\"orijinal_budget_deficit\": budget_deficit, \"winsorize_budget_deficit\": winsorize_budget_deficit,\n",
    "              \"winsorize_budget_deficit2\": winsorize_budget_deficit2}).describe()"
   ]
  },
  {
   "cell_type": "markdown",
   "metadata": {},
   "source": [
    "Sonuclar farklilik gosteriyor."
   ]
  },
  {
   "cell_type": "markdown",
   "metadata": {},
   "source": []
  },
  {
   "cell_type": "markdown",
   "metadata": {},
   "source": [
    "6.Bizim için bütçe açığı çok önemli bir değişken olsaydı aykırı değerleri temizlemek için hangi yöntem daha iyi olurdu. Üçüncü soruda uguladığınız yöntem mi yoksa dördüncü sorudaki yöntem mi?"
   ]
  },
  {
   "cell_type": "markdown",
   "metadata": {},
   "source": [
    " 3.sorudaki yontem"
   ]
  }
 ],
 "metadata": {
  "kernelspec": {
   "display_name": "Python 3",
   "language": "python",
   "name": "python3"
  },
  "language_info": {
   "codemirror_mode": {
    "name": "ipython",
    "version": 3
   },
   "file_extension": ".py",
   "mimetype": "text/x-python",
   "name": "python",
   "nbconvert_exporter": "python",
   "pygments_lexer": "ipython3",
   "version": "3.7.2"
  }
 },
 "nbformat": 4,
 "nbformat_minor": 2
}
