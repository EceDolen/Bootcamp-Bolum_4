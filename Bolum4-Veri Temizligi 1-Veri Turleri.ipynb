{
 "cells": [
  {
   "cell_type": "markdown",
   "metadata": {},
   "source": [
    "1. Rank değişkenini kategorik olarak değerlendirmenin avantaj ve dezavantajlarını göz önünde bulundurun. Argümanlarınızı mentorunuzla tartışın.\n",
    "\n",
    "surekli olan izlenme degerleri degiskenini kategorize edebilmek adina sira degeri kullanilmasi bize hizli bir bilgi ve siralamada kolaylik verir ama aralarindaki sayisal degeri belirtmez. \n"
   ]
  },
  {
   "cell_type": "markdown",
   "metadata": {},
   "source": [
    "2. Aşağıdaki değişkenlerin türlerini belirleyin:\n",
    "\n",
    "Yaş: Surekli oran degisken \n",
    "Maaş: Surekli oran degisken\n",
    "Gelir: Surekli oran degisken\n",
    "Müşteri türü: Kategorik nominal degisken\n",
    "Hisse senedi fiyatı: Surekli oran degiskeni"
   ]
  }
 ],
 "metadata": {
  "kernelspec": {
   "display_name": "Python 3",
   "language": "python",
   "name": "python3"
  },
  "language_info": {
   "codemirror_mode": {
    "name": "ipython",
    "version": 3
   },
   "file_extension": ".py",
   "mimetype": "text/x-python",
   "name": "python",
   "nbconvert_exporter": "python",
   "pygments_lexer": "ipython3",
   "version": "3.7.2"
  }
 },
 "nbformat": 4,
 "nbformat_minor": 2
}
