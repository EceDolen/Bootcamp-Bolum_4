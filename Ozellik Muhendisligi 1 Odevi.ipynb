{
 "cells": [
  {
   "cell_type": "code",
   "execution_count": 23,
   "metadata": {},
   "outputs": [],
   "source": [
    "import matplotlib.pyplot as plt\n",
    "import seaborn as sns\n",
    "import numpy as np\n",
    "import pandas as pd\n",
    "import seaborn as sns\n",
    "import scipy.stats as stats\n",
    "from scipy.stats.mstats import winsorize\n",
    "from sqlalchemy import create_engine\n",
    "import warnings\n",
    "\n",
    "warnings.filterwarnings('ignore')\n",
    "sns.set(style=\"whitegrid\")\n",
    "baslik_font = {'family': 'arial', 'color': 'darkred','weight': 'bold','size': 13 }\n",
    "eksen_font  = {'family': 'arial', 'color': 'darkblue','weight': 'bold','size': 10 }"
   ]
  },
  {
   "cell_type": "markdown",
   "metadata": {},
   "source": [
    "1.Sınav sonuçları normal dağılımlı mıdır? Değilse normal dağılıma sahip hale getirmek için ne yapabiliriz?\n",
    "\n",
    "2.Üç sınav sonucunu tek bir değişkende, hedef değişkeni olarak tutmak istiyoruz. Bunun için üç sınavın ortalamasını içeren yeni bir değişken tanımlayın. Bu yeni değişkenin ortalamasının normal dağılımlı olup olmadığını test edin. Eğer normal dağılıma sahip değilse dönüşüm yaparak normal dağılımlı hale getirmeye çalışın ve dönüşümün sonucunu test edin.\n",
    "\n",
    "3.Bir önceki soruda oluşturduğumuz hedef değişkeni ile hangi değişkenler ilişkili görünüyor? Eğer amacımız sınav başarısını belirleyen etkenleri açıklamak olsaydı hangi değişkenleri veri kümemizde tutmamız gerekirdi?\n",
    "\n"
   ]
  },
  {
   "cell_type": "code",
   "execution_count": 24,
   "metadata": {},
   "outputs": [
    {
     "data": {
      "text/html": [
       "<div>\n",
       "<style scoped>\n",
       "    .dataframe tbody tr th:only-of-type {\n",
       "        vertical-align: middle;\n",
       "    }\n",
       "\n",
       "    .dataframe tbody tr th {\n",
       "        vertical-align: top;\n",
       "    }\n",
       "\n",
       "    .dataframe thead th {\n",
       "        text-align: right;\n",
       "    }\n",
       "</style>\n",
       "<table border=\"1\" class=\"dataframe\">\n",
       "  <thead>\n",
       "    <tr style=\"text-align: right;\">\n",
       "      <th></th>\n",
       "      <th>gender</th>\n",
       "      <th>race/ethnicity</th>\n",
       "      <th>parental level of education</th>\n",
       "      <th>lunch</th>\n",
       "      <th>test preparation course</th>\n",
       "      <th>math score</th>\n",
       "      <th>reading score</th>\n",
       "      <th>writing score</th>\n",
       "    </tr>\n",
       "  </thead>\n",
       "  <tbody>\n",
       "    <tr>\n",
       "      <th>0</th>\n",
       "      <td>female</td>\n",
       "      <td>group B</td>\n",
       "      <td>bachelor's degree</td>\n",
       "      <td>standard</td>\n",
       "      <td>none</td>\n",
       "      <td>72</td>\n",
       "      <td>72</td>\n",
       "      <td>74</td>\n",
       "    </tr>\n",
       "    <tr>\n",
       "      <th>1</th>\n",
       "      <td>female</td>\n",
       "      <td>group C</td>\n",
       "      <td>some college</td>\n",
       "      <td>standard</td>\n",
       "      <td>completed</td>\n",
       "      <td>69</td>\n",
       "      <td>90</td>\n",
       "      <td>88</td>\n",
       "    </tr>\n",
       "    <tr>\n",
       "      <th>2</th>\n",
       "      <td>female</td>\n",
       "      <td>group B</td>\n",
       "      <td>master's degree</td>\n",
       "      <td>standard</td>\n",
       "      <td>none</td>\n",
       "      <td>90</td>\n",
       "      <td>95</td>\n",
       "      <td>93</td>\n",
       "    </tr>\n",
       "    <tr>\n",
       "      <th>3</th>\n",
       "      <td>male</td>\n",
       "      <td>group A</td>\n",
       "      <td>associate's degree</td>\n",
       "      <td>free/reduced</td>\n",
       "      <td>none</td>\n",
       "      <td>47</td>\n",
       "      <td>57</td>\n",
       "      <td>44</td>\n",
       "    </tr>\n",
       "    <tr>\n",
       "      <th>4</th>\n",
       "      <td>male</td>\n",
       "      <td>group C</td>\n",
       "      <td>some college</td>\n",
       "      <td>standard</td>\n",
       "      <td>none</td>\n",
       "      <td>76</td>\n",
       "      <td>78</td>\n",
       "      <td>75</td>\n",
       "    </tr>\n",
       "  </tbody>\n",
       "</table>\n",
       "</div>"
      ],
      "text/plain": [
       "   gender race/ethnicity parental level of education         lunch  \\\n",
       "0  female        group B           bachelor's degree      standard   \n",
       "1  female        group C                some college      standard   \n",
       "2  female        group B             master's degree      standard   \n",
       "3    male        group A          associate's degree  free/reduced   \n",
       "4    male        group C                some college      standard   \n",
       "\n",
       "  test preparation course  math score  reading score  writing score  \n",
       "0                    none          72             72             74  \n",
       "1               completed          69             90             88  \n",
       "2                    none          90             95             93  \n",
       "3                    none          47             57             44  \n",
       "4                    none          76             78             75  "
      ]
     },
     "execution_count": 24,
     "metadata": {},
     "output_type": "execute_result"
    }
   ],
   "source": [
    "student_performance = pd.read_csv(\"StudentsPerformance.csv\")\n",
    "student_performance.head()"
   ]
  },
  {
   "cell_type": "markdown",
   "metadata": {},
   "source": [
    "1.Sınav sonuçları normal dağılımlı mıdır? Değilse normal dağılıma sahip hale getirmek için ne yapabiliriz?\n"
   ]
  },
  {
   "cell_type": "code",
   "execution_count": 25,
   "metadata": {},
   "outputs": [
    {
     "data": {
      "image/png": "[encoded data removed]",
      "text/plain": [
       "<Figure size 1296x1080 with 3 Axes>"
      ]
     },
     "metadata": {},
     "output_type": "display_data"
    }
   ],
   "source": [
    "#Dagilim grafigine bakarak normal dagilim kontrolu:\n",
    "\n",
    "plt.figure(figsize=(18,15))\n",
    "\n",
    "plt.subplot(3, 3, 1)\n",
    "plt.hist(student_performance['math score'])\n",
    "plt.title('math score', fontdict=baslik_font)\n",
    "    \n",
    "plt.subplot(3, 3, 2)\n",
    "plt.hist(student_performance['reading score'])\n",
    "plt.title('reading score', fontdict=baslik_font)\n",
    "    \n",
    "plt.subplot(3, 3, 3)\n",
    "plt.hist(student_performance['writing score'])\n",
    "plt.title('writing score', fontdict=baslik_font)\n",
    "\n",
    "plt.show()\n"
   ]
  },
  {
   "cell_type": "code",
   "execution_count": 26,
   "metadata": {},
   "outputs": [
    {
     "data": {
      "text/html": [
       "<div>\n",
       "<style scoped>\n",
       "    .dataframe tbody tr th:only-of-type {\n",
       "        vertical-align: middle;\n",
       "    }\n",
       "\n",
       "    .dataframe tbody tr th {\n",
       "        vertical-align: top;\n",
       "    }\n",
       "\n",
       "    .dataframe thead th {\n",
       "        text-align: right;\n",
       "    }\n",
       "</style>\n",
       "<table border=\"1\" class=\"dataframe\">\n",
       "  <thead>\n",
       "    <tr style=\"text-align: right;\">\n",
       "      <th></th>\n",
       "      <th>ozellik</th>\n",
       "      <th>jarque_bera_stats</th>\n",
       "      <th>jarque_bera_p_value</th>\n",
       "      <th>normal_stats</th>\n",
       "      <th>normal_p_value</th>\n",
       "    </tr>\n",
       "  </thead>\n",
       "  <tbody>\n",
       "    <tr>\n",
       "      <th>0</th>\n",
       "      <td>math score</td>\n",
       "      <td>nan</td>\n",
       "      <td>nan</td>\n",
       "      <td>nan</td>\n",
       "      <td>nan</td>\n",
       "    </tr>\n",
       "    <tr>\n",
       "      <th>1</th>\n",
       "      <td>reading score</td>\n",
       "      <td>495.12732</td>\n",
       "      <td>0.00000</td>\n",
       "      <td>209.77151</td>\n",
       "      <td>0.00000</td>\n",
       "    </tr>\n",
       "    <tr>\n",
       "      <th>2</th>\n",
       "      <td>writing score</td>\n",
       "      <td>1410.93701</td>\n",
       "      <td>0.00000</td>\n",
       "      <td>318.96921</td>\n",
       "      <td>0.00000</td>\n",
       "    </tr>\n",
       "  </tbody>\n",
       "</table>\n",
       "</div>"
      ],
      "text/plain": [
       "         ozellik  jarque_bera_stats  jarque_bera_p_value  normal_stats  \\\n",
       "0     math score                nan                  nan           nan   \n",
       "1  reading score          495.12732              0.00000     209.77151   \n",
       "2  writing score         1410.93701              0.00000     318.96921   \n",
       "\n",
       "   normal_p_value  \n",
       "0             nan  \n",
       "1         0.00000  \n",
       "2         0.00000  "
      ]
     },
     "execution_count": 26,
     "metadata": {},
     "output_type": "execute_result"
    }
   ],
   "source": [
    "# log dönüştürülmüş değişkenlerin dağılımlarının scipy modülündeki Jarque-Bera ve Normal testlerini kullanarak\n",
    "#hala normal dağılımı takip etmediğini istatistiksel olarak doğrulayabiliriz:\n",
    "\n",
    "from scipy.stats import jarque_bera\n",
    "from scipy.stats import normaltest\n",
    "\n",
    "pd.options.display.float_format = '{:.5f}'.format\n",
    "\n",
    "ozellikler = [\"math score\",\"reading score\", \"writing score\"]\n",
    "dagilim_testleri = pd.DataFrame(columns=['ozellik', 'jarque_bera_stats', 'jarque_bera_p_value', \n",
    "                                         'normal_stats', 'normal_p_value'])\n",
    "\n",
    "for ozellik in ozellikler:\n",
    "    jb_stats = jarque_bera(np.log(student_performance[ozellik]))\n",
    "    norm_stats = normaltest(np.log(student_performance[ozellik]))\n",
    "    dagilim_testleri = dagilim_testleri.append({\"ozellik\": ozellik,\n",
    "                                                \"jarque_bera_stats\" : jb_stats[0] ,\n",
    "                                                \"jarque_bera_p_value\" : jb_stats[1] ,\n",
    "                                                \"normal_stats\": norm_stats[0] , \n",
    "                                                \"normal_p_value\" : norm_stats[1]\n",
    "                                               }, ignore_index=True)\n",
    "dagilim_testleri"
   ]
  },
  {
   "cell_type": "markdown",
   "metadata": {},
   "source": [
    "P degerlerinin 0 oldugunu ve dagilimlarin normal dagilmadigini goruyoruz.\n"
   ]
  },
  {
   "cell_type": "code",
   "execution_count": 27,
   "metadata": {
    "scrolled": true
   },
   "outputs": [
    {
     "data": {
      "text/plain": [
       "0.0"
      ]
     },
     "execution_count": 27,
     "metadata": {},
     "output_type": "execute_result"
    }
   ],
   "source": [
    "#Math Score degerlerinin nan olarak gelmesi dolayisiyla eksik deger kontrolu:\n",
    "student_performance[\"math score\"].isnull().sum()/student_performance[\"math score\"].isnull().count()"
   ]
  },
  {
   "cell_type": "code",
   "execution_count": 28,
   "metadata": {},
   "outputs": [
    {
     "data": {
      "text/plain": [
       "0    False\n",
       "1    False\n",
       "2    False\n",
       "3    False\n",
       "4    False\n",
       "Name: math score, dtype: bool"
      ]
     },
     "execution_count": 28,
     "metadata": {},
     "output_type": "execute_result"
    }
   ],
   "source": [
    "#Pandas, bir veri çerçevesindeki her öğe için bir öğenin değeri yoksa (None) veya False ifadesini alırsa, True döndüren .isnull () adlı bir metoda sahiptir.\n",
    "#Ancak, bu metodu veri çerçevemizden çağırdığımızda, şunu elde ederiz:\n",
    "\n",
    "student_performance[\"math score\"].isnull().head()"
   ]
  },
  {
   "cell_type": "code",
   "execution_count": 29,
   "metadata": {},
   "outputs": [
    {
     "name": "stdout",
     "output_type": "stream",
     "text": [
      "Minimum Değer\n",
      "-----------------\n",
      "math score            0.00000\n",
      "norm_math score       0.00000\n",
      "reading score        17.00000\n",
      "norm_reading score    0.00760\n",
      "writing score        10.00000\n",
      "norm_writing score    0.00454\n",
      "dtype: float64\n",
      "\n",
      "Maksimum Değer\n",
      "-----------------\n",
      "math score           100.00000\n",
      "norm_math score        0.04664\n",
      "reading score        100.00000\n",
      "norm_reading score     0.04473\n",
      "writing score        100.00000\n",
      "norm_writing score     0.04535\n",
      "dtype: float64\n"
     ]
    }
   ],
   "source": [
    "#1.Normalleştirme, bir değişkenin [0,1] aralığına yeniden ölçeklendirilmesidir (0 ve 1 dahil). Bu amaçla, SKLearn kütüphanesinin  preprocessing modülünden .normalize() metodunu kullanacağız. \n",
    "\n",
    "\n",
    "from sklearn.preprocessing import normalize\n",
    "\n",
    "student_performance[\"norm_math score\"] = normalize(np.array(student_performance[\"math score\"]).reshape(1,-1)).reshape(-1,1)\n",
    "student_performance[\"norm_reading score\"] = normalize(np.array(student_performance[\"reading score\"]).reshape(1,-1)).reshape(-1,1)\n",
    "student_performance[\"norm_writing score\"] = normalize(np.array(student_performance[\"writing score\"]).reshape(1,-1)).reshape(-1,1)\n",
    "normal_ozellikler=[\"math score\",\"norm_math score\",\"reading score\",\"norm_reading score\",\n",
    "                    \"writing score\",\"norm_writing score\"]\n",
    "\n",
    "\n",
    "print('Minimum Değer\\n-----------------',)\n",
    "print(student_performance[normal_ozellikler].min())\n",
    "print('\\nMaksimum Değer\\n-----------------',)\n",
    "print(student_performance[normal_ozellikler].max())"
   ]
  },
  {
   "cell_type": "code",
   "execution_count": 30,
   "metadata": {
    "scrolled": true
   },
   "outputs": [
    {
     "name": "stdout",
     "output_type": "stream",
     "text": [
      "math score              15.16308\n",
      "olcekli_math score       1.00050\n",
      "reading score           14.60019\n",
      "olcekli_reading score    1.00050\n",
      "writing score           15.19566\n",
      "olcekli_writing score    1.00050\n",
      "dtype: float64\n",
      "\n",
      "Ortalamalar\n",
      "-----------------\n",
      "math score              66.08900\n",
      "olcekli_math score       0.00000\n",
      "reading score           69.16900\n",
      "olcekli_reading score    0.00000\n",
      "writing score           68.05400\n",
      "olcekli_writing score   -0.00000\n",
      "dtype: float64\n"
     ]
    }
   ],
   "source": [
    "#2.Standartlaştırma, bir değişkenin, ortalaması 0 ve standart sapması 1 olacak şekilde yeniden ölçeklendirilmesidir. Standartlaştırmada değişken için maksimum değer uygulamadığımıza dikkat edin. Standartlaştırmayı uygulamak için,\n",
    "#SKLearn kütüphanesinin' preprocessing modülünden .scale() metodunu kullanacağız.\n",
    "\n",
    "\n",
    "from sklearn.preprocessing import scale\n",
    "\n",
    "student_performance[\"olcekli_math score\"] = scale(student_performance[\"math score\"])\n",
    "student_performance[\"olcekli_reading score\"] = scale(student_performance[\"reading score\"])\n",
    "student_performance[\"olcekli_writing score\"] = scale(student_performance[\"writing score\"])\n",
    "olcekli_ozellikler=[\"math score\",\"olcekli_math score\",\"reading score\",\n",
    "                    \"olcekli_reading score\",\"writing score\", \"olcekli_writing score\"]\n",
    "print(student_performance[olcekli_ozellikler].std())\n",
    "print('\\nOrtalamalar\\n-----------------',)\n",
    "print(student_performance[olcekli_ozellikler].mean())"
   ]
  },
  {
   "cell_type": "code",
   "execution_count": 31,
   "metadata": {},
   "outputs": [
    {
     "data": {
      "image/png": "[encoded data removed]",
      "text/plain": [
       "<Figure size 1296x1080 with 3 Axes>"
      ]
     },
     "metadata": {},
     "output_type": "display_data"
    }
   ],
   "source": [
    "#Dagilim grafigine tekrar bakarak normal dagilim kontrolu yapalim:\n",
    "\n",
    "plt.figure(figsize=(18,15))\n",
    "\n",
    "plt.subplot(3, 3, 1)\n",
    "plt.hist(student_performance['olcekli_math score'])\n",
    "plt.title('olcekli_math score', fontdict=baslik_font)\n",
    "    \n",
    "plt.subplot(3, 3, 2)\n",
    "plt.hist(student_performance['olcekli_reading score'])\n",
    "plt.title('olcekli_reading score', fontdict=baslik_font)\n",
    "    \n",
    "plt.subplot(3, 3, 3)\n",
    "plt.hist(student_performance['olcekli_writing score'])\n",
    "plt.title('olcekli_writing score', fontdict=baslik_font)\n",
    "\n",
    "plt.show()"
   ]
  },
  {
   "cell_type": "markdown",
   "metadata": {},
   "source": [
    "Ortalamasi 0 ve standart sapmasi 1 olarak verilerimiz normal dagilima uydu. "
   ]
  },
  {
   "cell_type": "markdown",
   "metadata": {},
   "source": []
  },
  {
   "cell_type": "markdown",
   "metadata": {},
   "source": [
    "2.Üç sınav sonucunu tek bir değişkende, hedef değişkeni olarak tutmak istiyoruz. Bunun için üç sınavın ortalamasını içeren yeni bir değişken tanımlayın. Bu yeni değişkenin ortalamasının normal dağılımlı olup olmadığını test edin. Eğer normal dağılıma sahip değilse dönüşüm yaparak normal dağılımlı hale getirmeye çalışın ve dönüşümün sonucunu test edin.\n"
   ]
  },
  {
   "cell_type": "code",
   "execution_count": 32,
   "metadata": {},
   "outputs": [],
   "source": [
    "student_performance['hedef_degisken'] = (student_performance[\"math score\"] + student_performance[\"reading score\"]+ student_performance[\"writing score\"])/3\n",
    "hedef_degisken = student_performance[ 'hedef_degisken']\n"
   ]
  },
  {
   "cell_type": "code",
   "execution_count": 33,
   "metadata": {},
   "outputs": [
    {
     "data": {
      "text/plain": [
       "1000"
      ]
     },
     "execution_count": 33,
     "metadata": {},
     "output_type": "execute_result"
    }
   ],
   "source": [
    "hedef_degisken.isnull().count()"
   ]
  },
  {
   "cell_type": "code",
   "execution_count": 34,
   "metadata": {
    "scrolled": true
   },
   "outputs": [
    {
     "data": {
      "text/plain": [
       "Text(0.5, 1.0, 'hedef_degisken')"
      ]
     },
     "execution_count": 34,
     "metadata": {},
     "output_type": "execute_result"
    },
    {
     "data": {
      "image/png": "[encoded data removed]",
      "text/plain": [
       "<Figure size 432x288 with 1 Axes>"
      ]
     },
     "metadata": {},
     "output_type": "display_data"
    }
   ],
   "source": [
    "plt.hist( hedef_degisken)\n",
    "plt.title('hedef_degisken', fontdict=baslik_font)"
   ]
  },
  {
   "cell_type": "markdown",
   "metadata": {},
   "source": [
    "Dagilimin normal oldugunu goruyoruz. Ama bunu jarque_bera testi ile dogrulayalim."
   ]
  },
  {
   "cell_type": "code",
   "execution_count": 35,
   "metadata": {},
   "outputs": [
    {
     "data": {
      "text/html": [
       "<div>\n",
       "<style scoped>\n",
       "    .dataframe tbody tr th:only-of-type {\n",
       "        vertical-align: middle;\n",
       "    }\n",
       "\n",
       "    .dataframe tbody tr th {\n",
       "        vertical-align: top;\n",
       "    }\n",
       "\n",
       "    .dataframe thead th {\n",
       "        text-align: right;\n",
       "    }\n",
       "</style>\n",
       "<table border=\"1\" class=\"dataframe\">\n",
       "  <thead>\n",
       "    <tr style=\"text-align: right;\">\n",
       "      <th></th>\n",
       "      <th>ozellik</th>\n",
       "      <th>jarque_bera_stats</th>\n",
       "      <th>jarque_bera_p_value</th>\n",
       "      <th>normal_stats</th>\n",
       "      <th>normal_p_value</th>\n",
       "    </tr>\n",
       "  </thead>\n",
       "  <tbody>\n",
       "    <tr>\n",
       "      <th>0</th>\n",
       "      <td>writing score</td>\n",
       "      <td>(1410.937006925743, 0.0)</td>\n",
       "      <td>(1410.937006925743, 0.0)</td>\n",
       "      <td>(318.9692123027676, 5.454005856377552e-70)</td>\n",
       "      <td>(318.9692123027676, 5.454005856377552e-70)</td>\n",
       "    </tr>\n",
       "  </tbody>\n",
       "</table>\n",
       "</div>"
      ],
      "text/plain": [
       "         ozellik         jarque_bera_stats       jarque_bera_p_value  \\\n",
       "0  writing score  (1410.937006925743, 0.0)  (1410.937006925743, 0.0)   \n",
       "\n",
       "                                 normal_stats  \\\n",
       "0  (318.9692123027676, 5.454005856377552e-70)   \n",
       "\n",
       "                               normal_p_value  \n",
       "0  (318.9692123027676, 5.454005856377552e-70)  "
      ]
     },
     "execution_count": 35,
     "metadata": {},
     "output_type": "execute_result"
    }
   ],
   "source": [
    "from scipy.stats import jarque_bera\n",
    "from scipy.stats import normaltest \n",
    "\n",
    "pd.options.display.float_format = '{:.5f}'.format\n",
    "\n",
    "ozellikler = [\"hedef_degisken\"]\n",
    "dagilim_testleri = pd.DataFrame(columns=['ozellik', 'jarque_bera_stats', 'jarque_bera_p_value', \n",
    "                                         'normal_stats', 'normal_p_value'])\n",
    "\n",
    "jb_stats = jarque_bera(np.log(student_performance[ozellik]))\n",
    "norm_stats = normaltest(np.log(student_performance[ozellik]))\n",
    "dagilim_testleri = dagilim_testleri.append({\"ozellik\": ozellik,\n",
    "                                                \"jarque_bera_stats\" : jb_stats,\n",
    "                                                \"jarque_bera_p_value\" : jb_stats,\n",
    "                                                \"normal_stats\": norm_stats, \n",
    "                                                \"normal_p_value\" : norm_stats\n",
    "                                               }, ignore_index=True)\n",
    "\n",
    "dagilim_testleri"
   ]
  },
  {
   "cell_type": "markdown",
   "metadata": {},
   "source": [
    "Degisken normal dagilima sahip degildir. "
   ]
  },
  {
   "cell_type": "code",
   "execution_count": 36,
   "metadata": {},
   "outputs": [
    {
     "name": "stdout",
     "output_type": "stream",
     "text": [
      "Minimum Değer\n",
      "-----------------\n",
      "hedef_degisken        9.00000\n",
      "norm_hedef_degisken   0.00411\n",
      "dtype: float64\n",
      "\n",
      "Maksimum Değer\n",
      "-----------------\n",
      "hedef_degisken        100.00000\n",
      "norm_hedef_degisken     0.04566\n",
      "dtype: float64\n"
     ]
    }
   ],
   "source": [
    "#Degiskenin normallestirilmesi \n",
    "\n",
    "from sklearn.preprocessing import normalize\n",
    "\n",
    "student_performance[\"norm_hedef_degisken\"] = normalize(np.array(student_performance[\"hedef_degisken\"]).reshape(1,-1)).reshape(-1,1)\n",
    "normal_ozellikler=[\"hedef_degisken\",\"norm_hedef_degisken\"]\n",
    "\n",
    "\n",
    "print('Minimum Değer\\n-----------------',)\n",
    "print(student_performance[normal_ozellikler].min())\n",
    "print('\\nMaksimum Değer\\n-----------------',)\n",
    "print(student_performance[normal_ozellikler].max())"
   ]
  },
  {
   "cell_type": "code",
   "execution_count": 37,
   "metadata": {},
   "outputs": [
    {
     "data": {
      "text/html": [
       "<div>\n",
       "<style scoped>\n",
       "    .dataframe tbody tr th:only-of-type {\n",
       "        vertical-align: middle;\n",
       "    }\n",
       "\n",
       "    .dataframe tbody tr th {\n",
       "        vertical-align: top;\n",
       "    }\n",
       "\n",
       "    .dataframe thead th {\n",
       "        text-align: right;\n",
       "    }\n",
       "</style>\n",
       "<table border=\"1\" class=\"dataframe\">\n",
       "  <thead>\n",
       "    <tr style=\"text-align: right;\">\n",
       "      <th></th>\n",
       "      <th>ozellik</th>\n",
       "      <th>jarque_bera_stats</th>\n",
       "      <th>jarque_bera_p_value</th>\n",
       "      <th>normal_stats</th>\n",
       "      <th>normal_p_value</th>\n",
       "    </tr>\n",
       "  </thead>\n",
       "  <tbody>\n",
       "    <tr>\n",
       "      <th>0</th>\n",
       "      <td>writing score</td>\n",
       "      <td>(1410.937006925743, 0.0)</td>\n",
       "      <td>(1410.937006925743, 0.0)</td>\n",
       "      <td>(318.9692123027676, 5.454005856377552e-70)</td>\n",
       "      <td>(318.9692123027676, 5.454005856377552e-70)</td>\n",
       "    </tr>\n",
       "  </tbody>\n",
       "</table>\n",
       "</div>"
      ],
      "text/plain": [
       "         ozellik         jarque_bera_stats       jarque_bera_p_value  \\\n",
       "0  writing score  (1410.937006925743, 0.0)  (1410.937006925743, 0.0)   \n",
       "\n",
       "                                 normal_stats  \\\n",
       "0  (318.9692123027676, 5.454005856377552e-70)   \n",
       "\n",
       "                               normal_p_value  \n",
       "0  (318.9692123027676, 5.454005856377552e-70)  "
      ]
     },
     "execution_count": 37,
     "metadata": {},
     "output_type": "execute_result"
    }
   ],
   "source": [
    "# normallestirdigimiz degisken icin tekrar jaque bera uygulayalim:\n",
    "\n",
    "from scipy.stats import jarque_bera\n",
    "from scipy.stats import normaltest \n",
    "\n",
    "pd.options.display.float_format = '{:.5f}'.format\n",
    "\n",
    "ozellikler = [\"norm_hedef_degisken\"]\n",
    "dagilim_testleri = pd.DataFrame(columns=['ozellik', 'jarque_bera_stats', 'jarque_bera_p_value', \n",
    "                                         'normal_stats', 'normal_p_value'])\n",
    "\n",
    "jb_stats = jarque_bera(np.log(student_performance[ozellik]))\n",
    "norm_stats = normaltest(np.log(student_performance[ozellik]))\n",
    "dagilim_testleri = dagilim_testleri.append({\"ozellik\": ozellik,\n",
    "                                                \"jarque_bera_stats\" : jb_stats,\n",
    "                                                \"jarque_bera_p_value\" : jb_stats,\n",
    "                                                \"normal_stats\": norm_stats, \n",
    "                                                \"normal_p_value\" : norm_stats\n",
    "                                               }, ignore_index=True)\n",
    "\n",
    "dagilim_testleri"
   ]
  },
  {
   "cell_type": "markdown",
   "metadata": {},
   "source": []
  },
  {
   "cell_type": "markdown",
   "metadata": {},
   "source": []
  },
  {
   "cell_type": "markdown",
   "metadata": {},
   "source": [
    "3.Bir önceki soruda oluşturduğumuz hedef değişkeni ile hangi değişkenler ilişkili görünüyor? Eğer amacımız sınav başarısını belirleyen etkenleri açıklamak olsaydı hangi değişkenleri veri kümemizde tutmamız gerekirdi?"
   ]
  },
  {
   "cell_type": "code",
   "execution_count": 42,
   "metadata": {},
   "outputs": [
    {
     "ename": "TypeError",
     "evalue": "cannot perform reduce with flexible type",
     "output_type": "error",
     "traceback": [
      "\u001b[1;31m---------------------------------------------------------------------------\u001b[0m",
      "\u001b[1;31mTypeError\u001b[0m                                 Traceback (most recent call last)",
      "\u001b[1;32m<ipython-input-42-b193d8fb513b>\u001b[0m in \u001b[0;36m<module>\u001b[1;34m\u001b[0m\n\u001b[0;32m      6\u001b[0m \u001b[0mliste2\u001b[0m \u001b[1;33m=\u001b[0m \u001b[1;33m[\u001b[0m \u001b[1;34m\"student_performance\"\u001b[0m\u001b[1;33m]\u001b[0m\u001b[1;33m\u001b[0m\u001b[1;33m\u001b[0m\u001b[0m\n\u001b[0;32m      7\u001b[0m \u001b[1;33m\u001b[0m\u001b[0m\n\u001b[1;32m----> 8\u001b[1;33m \u001b[0mprint\u001b[0m \u001b[1;33m(\u001b[0m \u001b[0mnp\u001b[0m\u001b[1;33m.\u001b[0m\u001b[0mcorrcoef\u001b[0m\u001b[1;33m(\u001b[0m\u001b[0mdizi1\u001b[0m\u001b[1;33m,\u001b[0m\u001b[0mdizi2\u001b[0m\u001b[1;33m)\u001b[0m\u001b[1;33m)\u001b[0m\u001b[1;33m\u001b[0m\u001b[1;33m\u001b[0m\u001b[0m\n\u001b[0m\u001b[0;32m      9\u001b[0m \u001b[0mprint\u001b[0m\u001b[1;33m(\u001b[0m\u001b[0mnp\u001b[0m\u001b[1;33m.\u001b[0m\u001b[0mcorrcoef\u001b[0m\u001b[1;33m(\u001b[0m\u001b[0mliste1\u001b[0m\u001b[1;33m,\u001b[0m \u001b[0mliste2\u001b[0m\u001b[1;33m)\u001b[0m\u001b[1;33m)\u001b[0m\u001b[1;33m\u001b[0m\u001b[1;33m\u001b[0m\u001b[0m\n",
      "\u001b[1;32mc:\\users\\ece-yusuf-sekoya\\appdata\\local\\programs\\python\\python37-32\\lib\\site-packages\\numpy\\lib\\function_base.py\u001b[0m in \u001b[0;36mcorrcoef\u001b[1;34m(x, y, rowvar, bias, ddof)\u001b[0m\n\u001b[0;32m   2390\u001b[0m         warnings.warn('bias and ddof have no effect and are deprecated',\n\u001b[0;32m   2391\u001b[0m                       DeprecationWarning, stacklevel=2)\n\u001b[1;32m-> 2392\u001b[1;33m     \u001b[0mc\u001b[0m \u001b[1;33m=\u001b[0m \u001b[0mcov\u001b[0m\u001b[1;33m(\u001b[0m\u001b[0mx\u001b[0m\u001b[1;33m,\u001b[0m \u001b[0my\u001b[0m\u001b[1;33m,\u001b[0m \u001b[0mrowvar\u001b[0m\u001b[1;33m)\u001b[0m\u001b[1;33m\u001b[0m\u001b[1;33m\u001b[0m\u001b[0m\n\u001b[0m\u001b[0;32m   2393\u001b[0m     \u001b[1;32mtry\u001b[0m\u001b[1;33m:\u001b[0m\u001b[1;33m\u001b[0m\u001b[1;33m\u001b[0m\u001b[0m\n\u001b[0;32m   2394\u001b[0m         \u001b[0md\u001b[0m \u001b[1;33m=\u001b[0m \u001b[0mdiag\u001b[0m\u001b[1;33m(\u001b[0m\u001b[0mc\u001b[0m\u001b[1;33m)\u001b[0m\u001b[1;33m\u001b[0m\u001b[1;33m\u001b[0m\u001b[0m\n",
      "\u001b[1;32mc:\\users\\ece-yusuf-sekoya\\appdata\\local\\programs\\python\\python37-32\\lib\\site-packages\\numpy\\lib\\function_base.py\u001b[0m in \u001b[0;36mcov\u001b[1;34m(m, y, rowvar, bias, ddof, fweights, aweights)\u001b[0m\n\u001b[0;32m   2300\u001b[0m             \u001b[0mw\u001b[0m \u001b[1;33m*=\u001b[0m \u001b[0maweights\u001b[0m\u001b[1;33m\u001b[0m\u001b[1;33m\u001b[0m\u001b[0m\n\u001b[0;32m   2301\u001b[0m \u001b[1;33m\u001b[0m\u001b[0m\n\u001b[1;32m-> 2302\u001b[1;33m     \u001b[0mavg\u001b[0m\u001b[1;33m,\u001b[0m \u001b[0mw_sum\u001b[0m \u001b[1;33m=\u001b[0m \u001b[0maverage\u001b[0m\u001b[1;33m(\u001b[0m\u001b[0mX\u001b[0m\u001b[1;33m,\u001b[0m \u001b[0maxis\u001b[0m\u001b[1;33m=\u001b[0m\u001b[1;36m1\u001b[0m\u001b[1;33m,\u001b[0m \u001b[0mweights\u001b[0m\u001b[1;33m=\u001b[0m\u001b[0mw\u001b[0m\u001b[1;33m,\u001b[0m \u001b[0mreturned\u001b[0m\u001b[1;33m=\u001b[0m\u001b[1;32mTrue\u001b[0m\u001b[1;33m)\u001b[0m\u001b[1;33m\u001b[0m\u001b[1;33m\u001b[0m\u001b[0m\n\u001b[0m\u001b[0;32m   2303\u001b[0m     \u001b[0mw_sum\u001b[0m \u001b[1;33m=\u001b[0m \u001b[0mw_sum\u001b[0m\u001b[1;33m[\u001b[0m\u001b[1;36m0\u001b[0m\u001b[1;33m]\u001b[0m\u001b[1;33m\u001b[0m\u001b[1;33m\u001b[0m\u001b[0m\n\u001b[0;32m   2304\u001b[0m \u001b[1;33m\u001b[0m\u001b[0m\n",
      "\u001b[1;32mc:\\users\\ece-yusuf-sekoya\\appdata\\local\\programs\\python\\python37-32\\lib\\site-packages\\numpy\\lib\\function_base.py\u001b[0m in \u001b[0;36maverage\u001b[1;34m(a, axis, weights, returned)\u001b[0m\n\u001b[0;32m    354\u001b[0m \u001b[1;33m\u001b[0m\u001b[0m\n\u001b[0;32m    355\u001b[0m     \u001b[1;32mif\u001b[0m \u001b[0mweights\u001b[0m \u001b[1;32mis\u001b[0m \u001b[1;32mNone\u001b[0m\u001b[1;33m:\u001b[0m\u001b[1;33m\u001b[0m\u001b[1;33m\u001b[0m\u001b[0m\n\u001b[1;32m--> 356\u001b[1;33m         \u001b[0mavg\u001b[0m \u001b[1;33m=\u001b[0m \u001b[0ma\u001b[0m\u001b[1;33m.\u001b[0m\u001b[0mmean\u001b[0m\u001b[1;33m(\u001b[0m\u001b[0maxis\u001b[0m\u001b[1;33m)\u001b[0m\u001b[1;33m\u001b[0m\u001b[1;33m\u001b[0m\u001b[0m\n\u001b[0m\u001b[0;32m    357\u001b[0m         \u001b[0mscl\u001b[0m \u001b[1;33m=\u001b[0m \u001b[0mavg\u001b[0m\u001b[1;33m.\u001b[0m\u001b[0mdtype\u001b[0m\u001b[1;33m.\u001b[0m\u001b[0mtype\u001b[0m\u001b[1;33m(\u001b[0m\u001b[0ma\u001b[0m\u001b[1;33m.\u001b[0m\u001b[0msize\u001b[0m\u001b[1;33m/\u001b[0m\u001b[0mavg\u001b[0m\u001b[1;33m.\u001b[0m\u001b[0msize\u001b[0m\u001b[1;33m)\u001b[0m\u001b[1;33m\u001b[0m\u001b[1;33m\u001b[0m\u001b[0m\n\u001b[0;32m    358\u001b[0m     \u001b[1;32melse\u001b[0m\u001b[1;33m:\u001b[0m\u001b[1;33m\u001b[0m\u001b[1;33m\u001b[0m\u001b[0m\n",
      "\u001b[1;32mc:\\users\\ece-yusuf-sekoya\\appdata\\local\\programs\\python\\python37-32\\lib\\site-packages\\numpy\\core\\_methods.py\u001b[0m in \u001b[0;36m_mean\u001b[1;34m(a, axis, dtype, out, keepdims)\u001b[0m\n\u001b[0;32m     73\u001b[0m             \u001b[0mis_float16_result\u001b[0m \u001b[1;33m=\u001b[0m \u001b[1;32mTrue\u001b[0m\u001b[1;33m\u001b[0m\u001b[1;33m\u001b[0m\u001b[0m\n\u001b[0;32m     74\u001b[0m \u001b[1;33m\u001b[0m\u001b[0m\n\u001b[1;32m---> 75\u001b[1;33m     \u001b[0mret\u001b[0m \u001b[1;33m=\u001b[0m \u001b[0mumr_sum\u001b[0m\u001b[1;33m(\u001b[0m\u001b[0marr\u001b[0m\u001b[1;33m,\u001b[0m \u001b[0maxis\u001b[0m\u001b[1;33m,\u001b[0m \u001b[0mdtype\u001b[0m\u001b[1;33m,\u001b[0m \u001b[0mout\u001b[0m\u001b[1;33m,\u001b[0m \u001b[0mkeepdims\u001b[0m\u001b[1;33m)\u001b[0m\u001b[1;33m\u001b[0m\u001b[1;33m\u001b[0m\u001b[0m\n\u001b[0m\u001b[0;32m     76\u001b[0m     \u001b[1;32mif\u001b[0m \u001b[0misinstance\u001b[0m\u001b[1;33m(\u001b[0m\u001b[0mret\u001b[0m\u001b[1;33m,\u001b[0m \u001b[0mmu\u001b[0m\u001b[1;33m.\u001b[0m\u001b[0mndarray\u001b[0m\u001b[1;33m)\u001b[0m\u001b[1;33m:\u001b[0m\u001b[1;33m\u001b[0m\u001b[1;33m\u001b[0m\u001b[0m\n\u001b[0;32m     77\u001b[0m         ret = um.true_divide(\n",
      "\u001b[1;31mTypeError\u001b[0m: cannot perform reduce with flexible type"
     ]
    }
   ],
   "source": [
    "dizi1 = np.array(['hedef_degisken'])\n",
    "dizi2 = np.array([\"student_performance\"])\n",
    "\n",
    "\n",
    "liste1 = [ \"hedef_degisken\"]\n",
    "liste2 = [ \"student_performance\"]\n",
    "\n",
    "print ( np.corrcoef(dizi1,dizi2))\n",
    "print(np.corrcoef(liste1, liste2))\n"
   ]
  },
  {
   "cell_type": "code",
   "execution_count": 37,
   "metadata": {},
   "outputs": [
    {
     "data": {
      "text/html": [
       "<div>\n",
       "<style scoped>\n",
       "    .dataframe tbody tr th:only-of-type {\n",
       "        vertical-align: middle;\n",
       "    }\n",
       "\n",
       "    .dataframe tbody tr th {\n",
       "        vertical-align: top;\n",
       "    }\n",
       "\n",
       "    .dataframe thead th {\n",
       "        text-align: right;\n",
       "    }\n",
       "</style>\n",
       "<table border=\"1\" class=\"dataframe\">\n",
       "  <thead>\n",
       "    <tr style=\"text-align: right;\">\n",
       "      <th></th>\n",
       "    </tr>\n",
       "  </thead>\n",
       "  <tbody>\n",
       "  </tbody>\n",
       "</table>\n",
       "</div>"
      ],
      "text/plain": [
       "Empty DataFrame\n",
       "Columns: []\n",
       "Index: []"
      ]
     },
     "execution_count": 37,
     "metadata": {},
     "output_type": "execute_result"
    }
   ],
   "source": [
    "df = pd.DataFrame(np.array(my_list))\n",
    "df.corr()"
   ]
  },
  {
   "cell_type": "code",
   "execution_count": 42,
   "metadata": {},
   "outputs": [
    {
     "data": {
      "text/plain": [
       "Ttest_indResult(statistic=2.166886094174308, pvalue=0.030361371209089515)"
      ]
     },
     "execution_count": 42,
     "metadata": {},
     "output_type": "execute_result"
    }
   ],
   "source": [
    "ttest = stats.ttest_ind(student_performance ['reading score'],hedef_degisken)\n",
    "ttest"
   ]
  },
  {
   "cell_type": "code",
   "execution_count": 41,
   "metadata": {},
   "outputs": [
    {
     "data": {
      "text/plain": [
       "Ttest_indResult(statistic=-2.555056646365364, pvalue=0.010690567293518173)"
      ]
     },
     "execution_count": 41,
     "metadata": {},
     "output_type": "execute_result"
    }
   ],
   "source": [
    "ttest = stats.ttest_ind(student_performance ['math score'],hedef_degisken)\n",
    "ttest"
   ]
  },
  {
   "cell_type": "code",
   "execution_count": 43,
   "metadata": {},
   "outputs": [
    {
     "data": {
      "text/plain": [
       "Ttest_indResult(statistic=0.4299946932697101, pvalue=0.6672458724570166)"
      ]
     },
     "execution_count": 43,
     "metadata": {},
     "output_type": "execute_result"
    }
   ],
   "source": [
    "ttest = stats.ttest_ind(student_performance ['writing score'],hedef_degisken)\n",
    "ttest"
   ]
  }
 ],
 "metadata": {
  "kernelspec": {
   "display_name": "Python 3",
   "language": "python",
   "name": "python3"
  },
  "language_info": {
   "codemirror_mode": {
    "name": "ipython",
    "version": 3
   },
   "file_extension": ".py",
   "mimetype": "text/x-python",
   "name": "python",
   "nbconvert_exporter": "python",
   "pygments_lexer": "ipython3",
   "version": "3.7.2"
  }
 },
 "nbformat": 4,
 "nbformat_minor": 2
}
