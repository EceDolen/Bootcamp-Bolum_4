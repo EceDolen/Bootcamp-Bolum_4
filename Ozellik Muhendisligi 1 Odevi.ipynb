{
 "cells": [
  {
   "cell_type": "code",
   "execution_count": 14,
   "metadata": {},
   "outputs": [],
   "source": [
    "import matplotlib.pyplot as plt\n",
    "import seaborn as sns\n",
    "import numpy as np\n",
    "import pandas as pd\n",
    "import seaborn as sns\n",
    "import scipy.stats as stats\n",
    "from scipy.stats.mstats import winsorize\n",
    "from sqlalchemy import create_engine\n",
    "import warnings\n",
    "\n",
    "warnings.filterwarnings('ignore')\n",
    "sns.set(style=\"whitegrid\")\n",
    "baslik_font = {'family': 'arial', 'color': 'darkred','weight': 'bold','size': 13 }\n",
    "eksen_font  = {'family': 'arial', 'color': 'darkblue','weight': 'bold','size': 10 }"
   ]
  },
  {
   "cell_type": "markdown",
   "metadata": {},
   "source": [
    "1.Sınav sonuçları normal dağılımlı mıdır? Değilse normal dağılıma sahip hale getirmek için ne yapabiliriz?\n",
    "\n",
    "2.Üç sınav sonucunu tek bir değişkende, hedef değişkeni olarak tutmak istiyoruz. Bunun için üç sınavın ortalamasını içeren yeni bir değişken tanımlayın. Bu yeni değişkenin ortalamasının normal dağılımlı olup olmadığını test edin. Eğer normal dağılıma sahip değilse dönüşüm yaparak normal dağılımlı hale getirmeye çalışın ve dönüşümün sonucunu test edin.\n",
    "\n",
    "3.Bir önceki soruda oluşturduğumuz hedef değişkeni ile hangi değişkenler ilişkili görünüyor? Eğer amacımız sınav başarısını belirleyen etkenleri açıklamak olsaydı hangi değişkenleri veri kümemizde tutmamız gerekirdi?\n",
    "\n"
   ]
  },
  {
   "cell_type": "code",
   "execution_count": 15,
   "metadata": {},
   "outputs": [
    {
     "data": {
      "text/html": [
       "<div>\n",
       "<style scoped>\n",
       "    .dataframe tbody tr th:only-of-type {\n",
       "        vertical-align: middle;\n",
       "    }\n",
       "\n",
       "    .dataframe tbody tr th {\n",
       "        vertical-align: top;\n",
       "    }\n",
       "\n",
       "    .dataframe thead th {\n",
       "        text-align: right;\n",
       "    }\n",
       "</style>\n",
       "<table border=\"1\" class=\"dataframe\">\n",
       "  <thead>\n",
       "    <tr style=\"text-align: right;\">\n",
       "      <th></th>\n",
       "      <th>gender</th>\n",
       "      <th>race/ethnicity</th>\n",
       "      <th>parental level of education</th>\n",
       "      <th>lunch</th>\n",
       "      <th>test preparation course</th>\n",
       "      <th>math score</th>\n",
       "      <th>reading score</th>\n",
       "      <th>writing score</th>\n",
       "    </tr>\n",
       "  </thead>\n",
       "  <tbody>\n",
       "    <tr>\n",
       "      <th>0</th>\n",
       "      <td>female</td>\n",
       "      <td>group B</td>\n",
       "      <td>bachelor's degree</td>\n",
       "      <td>standard</td>\n",
       "      <td>none</td>\n",
       "      <td>72</td>\n",
       "      <td>72</td>\n",
       "      <td>74</td>\n",
       "    </tr>\n",
       "    <tr>\n",
       "      <th>1</th>\n",
       "      <td>female</td>\n",
       "      <td>group C</td>\n",
       "      <td>some college</td>\n",
       "      <td>standard</td>\n",
       "      <td>completed</td>\n",
       "      <td>69</td>\n",
       "      <td>90</td>\n",
       "      <td>88</td>\n",
       "    </tr>\n",
       "    <tr>\n",
       "      <th>2</th>\n",
       "      <td>female</td>\n",
       "      <td>group B</td>\n",
       "      <td>master's degree</td>\n",
       "      <td>standard</td>\n",
       "      <td>none</td>\n",
       "      <td>90</td>\n",
       "      <td>95</td>\n",
       "      <td>93</td>\n",
       "    </tr>\n",
       "    <tr>\n",
       "      <th>3</th>\n",
       "      <td>male</td>\n",
       "      <td>group A</td>\n",
       "      <td>associate's degree</td>\n",
       "      <td>free/reduced</td>\n",
       "      <td>none</td>\n",
       "      <td>47</td>\n",
       "      <td>57</td>\n",
       "      <td>44</td>\n",
       "    </tr>\n",
       "    <tr>\n",
       "      <th>4</th>\n",
       "      <td>male</td>\n",
       "      <td>group C</td>\n",
       "      <td>some college</td>\n",
       "      <td>standard</td>\n",
       "      <td>none</td>\n",
       "      <td>76</td>\n",
       "      <td>78</td>\n",
       "      <td>75</td>\n",
       "    </tr>\n",
       "  </tbody>\n",
       "</table>\n",
       "</div>"
      ],
      "text/plain": [
       "   gender race/ethnicity parental level of education         lunch  \\\n",
       "0  female        group B           bachelor's degree      standard   \n",
       "1  female        group C                some college      standard   \n",
       "2  female        group B             master's degree      standard   \n",
       "3    male        group A          associate's degree  free/reduced   \n",
       "4    male        group C                some college      standard   \n",
       "\n",
       "  test preparation course  math score  reading score  writing score  \n",
       "0                    none          72             72             74  \n",
       "1               completed          69             90             88  \n",
       "2                    none          90             95             93  \n",
       "3                    none          47             57             44  \n",
       "4                    none          76             78             75  "
      ]
     },
     "execution_count": 15,
     "metadata": {},
     "output_type": "execute_result"
    }
   ],
   "source": [
    "student_performance = pd.read_csv(\"StudentsPerformance.csv\")\n",
    "student_performance.head()"
   ]
  },
  {
   "cell_type": "markdown",
   "metadata": {},
   "source": [
    "1.Sınav sonuçları normal dağılımlı mıdır? Değilse normal dağılıma sahip hale getirmek için ne yapabiliriz?\n"
   ]
  },
  {
   "cell_type": "code",
   "execution_count": 16,
   "metadata": {},
   "outputs": [
    {
     "data": {
      "image/png": "[encoded data removed]",
      "text/plain": [
       "<Figure size 1296x1080 with 3 Axes>"
      ]
     },
     "metadata": {},
     "output_type": "display_data"
    }
   ],
   "source": [
    "#Dagilim grafigine bakarak normal dagilim kontrolu:\n",
    "\n",
    "plt.figure(figsize=(18,15))\n",
    "\n",
    "plt.subplot(3, 3, 1)\n",
    "plt.hist(student_performance['math score'])\n",
    "plt.title('math score', fontdict=baslik_font)\n",
    "    \n",
    "plt.subplot(3, 3, 2)\n",
    "plt.hist(student_performance['reading score'])\n",
    "plt.title('reading score', fontdict=baslik_font)\n",
    "    \n",
    "plt.subplot(3, 3, 3)\n",
    "plt.hist(student_performance['writing score'])\n",
    "plt.title('writing score', fontdict=baslik_font)\n",
    "\n",
    "plt.show()\n"
   ]
  },
  {
   "cell_type": "code",
   "execution_count": 17,
   "metadata": {},
   "outputs": [
    {
     "data": {
      "text/html": [
       "<div>\n",
       "<style scoped>\n",
       "    .dataframe tbody tr th:only-of-type {\n",
       "        vertical-align: middle;\n",
       "    }\n",
       "\n",
       "    .dataframe tbody tr th {\n",
       "        vertical-align: top;\n",
       "    }\n",
       "\n",
       "    .dataframe thead th {\n",
       "        text-align: right;\n",
       "    }\n",
       "</style>\n",
       "<table border=\"1\" class=\"dataframe\">\n",
       "  <thead>\n",
       "    <tr style=\"text-align: right;\">\n",
       "      <th></th>\n",
       "      <th>ozellik</th>\n",
       "      <th>jarque_bera_stats</th>\n",
       "      <th>jarque_bera_p_value</th>\n",
       "      <th>normal_stats</th>\n",
       "      <th>normal_p_value</th>\n",
       "    </tr>\n",
       "  </thead>\n",
       "  <tbody>\n",
       "    <tr>\n",
       "      <th>0</th>\n",
       "      <td>math score</td>\n",
       "      <td>nan</td>\n",
       "      <td>nan</td>\n",
       "      <td>nan</td>\n",
       "      <td>nan</td>\n",
       "    </tr>\n",
       "    <tr>\n",
       "      <th>1</th>\n",
       "      <td>reading score</td>\n",
       "      <td>495.12732</td>\n",
       "      <td>0.00000</td>\n",
       "      <td>209.77151</td>\n",
       "      <td>0.00000</td>\n",
       "    </tr>\n",
       "    <tr>\n",
       "      <th>2</th>\n",
       "      <td>writing score</td>\n",
       "      <td>1410.93701</td>\n",
       "      <td>0.00000</td>\n",
       "      <td>318.96921</td>\n",
       "      <td>0.00000</td>\n",
       "    </tr>\n",
       "  </tbody>\n",
       "</table>\n",
       "</div>"
      ],
      "text/plain": [
       "         ozellik  jarque_bera_stats  jarque_bera_p_value  normal_stats  \\\n",
       "0     math score                nan                  nan           nan   \n",
       "1  reading score          495.12732              0.00000     209.77151   \n",
       "2  writing score         1410.93701              0.00000     318.96921   \n",
       "\n",
       "   normal_p_value  \n",
       "0             nan  \n",
       "1         0.00000  \n",
       "2         0.00000  "
      ]
     },
     "execution_count": 17,
     "metadata": {},
     "output_type": "execute_result"
    }
   ],
   "source": [
    "# log dönüştürülmüş değişkenlerin dağılımlarının scipy modülündeki Jarque-Bera ve Normal testlerini kullanarak\n",
    "#hala normal dağılımı takip etmediğini istatistiksel olarak doğrulayabiliriz:\n",
    "\n",
    "from scipy.stats import jarque_bera\n",
    "from scipy.stats import normaltest\n",
    "\n",
    "pd.options.display.float_format = '{:.5f}'.format\n",
    "\n",
    "ozellikler = [\"math score\",\"reading score\", \"writing score\"]\n",
    "dagilim_testleri = pd.DataFrame(columns=['ozellik', 'jarque_bera_stats', 'jarque_bera_p_value', \n",
    "                                         'normal_stats', 'normal_p_value'])\n",
    "\n",
    "for ozellik in ozellikler:\n",
    "    jb_stats = jarque_bera(np.log(student_performance[ozellik]))\n",
    "    norm_stats = normaltest(np.log(student_performance[ozellik]))\n",
    "    dagilim_testleri = dagilim_testleri.append({\"ozellik\": ozellik,\n",
    "                                                \"jarque_bera_stats\" : jb_stats[0] ,\n",
    "                                                \"jarque_bera_p_value\" : jb_stats[1] ,\n",
    "                                                \"normal_stats\": norm_stats[0] , \n",
    "                                                \"normal_p_value\" : norm_stats[1]\n",
    "                                               }, ignore_index=True)\n",
    "dagilim_testleri"
   ]
  },
  {
   "cell_type": "markdown",
   "metadata": {},
   "source": [
    "P degerlerinin 0 oldugunu ve dagilimlarin normal dagilmadigini goruyoruz.\n"
   ]
  },
  {
   "cell_type": "code",
   "execution_count": 11,
   "metadata": {
    "scrolled": true
   },
   "outputs": [
    {
     "data": {
      "text/plain": [
       "0.0"
      ]
     },
     "execution_count": 11,
     "metadata": {},
     "output_type": "execute_result"
    }
   ],
   "source": [
    "#Math Score degerlerinin nan olarak gelmesi dolayisiyla eksik deger kontrolu:\n",
    "student_performance[\"math score\"].isnull().sum()/student_performance[\"math score\"].isnull().count()"
   ]
  },
  {
   "cell_type": "code",
   "execution_count": 13,
   "metadata": {},
   "outputs": [
    {
     "data": {
      "text/plain": [
       "0    False\n",
       "1    False\n",
       "2    False\n",
       "3    False\n",
       "4    False\n",
       "Name: math score, dtype: bool"
      ]
     },
     "execution_count": 13,
     "metadata": {},
     "output_type": "execute_result"
    }
   ],
   "source": [
    "#Pandas, bir veri çerçevesindeki her öğe için bir öğenin değeri yoksa (None) veya False ifadesini alırsa, True döndüren .isnull () adlı bir metoda sahiptir.\n",
    "#Ancak, bu metodu veri çerçevemizden çağırdığımızda, şunu elde ederiz:\n",
    "\n",
    "student_performance[\"math score\"].isnull().head()"
   ]
  },
  {
   "cell_type": "code",
   "execution_count": 15,
   "metadata": {},
   "outputs": [
    {
     "name": "stdout",
     "output_type": "stream",
     "text": [
      "Minimum Değer\n",
      "-----------------\n",
      "math score            0.00000\n",
      "norm_math score       0.00000\n",
      "reading score        17.00000\n",
      "norm_reading score    0.00760\n",
      "writing score        10.00000\n",
      "norm_writing score    0.00454\n",
      "dtype: float64\n",
      "\n",
      "Maksimum Değer\n",
      "-----------------\n",
      "math score           100.00000\n",
      "norm_math score        0.04664\n",
      "reading score        100.00000\n",
      "norm_reading score     0.04473\n",
      "writing score        100.00000\n",
      "norm_writing score     0.04535\n",
      "dtype: float64\n"
     ]
    }
   ],
   "source": [
    "#1.Normalleştirme, bir değişkenin [0,1] aralığına yeniden ölçeklendirilmesidir (0 ve 1 dahil). Bu amaçla, SKLearn kütüphanesinin  preprocessing modülünden .normalize() metodunu kullanacağız. \n",
    "\n",
    "\n",
    "from sklearn.preprocessing import normalize\n",
    "\n",
    "student_performance[\"norm_math score\"] = normalize(np.array(student_performance[\"math score\"]).reshape(1,-1)).reshape(-1,1)\n",
    "student_performance[\"norm_reading score\"] = normalize(np.array(student_performance[\"reading score\"]).reshape(1,-1)).reshape(-1,1)\n",
    "student_performance[\"norm_writing score\"] = normalize(np.array(student_performance[\"writing score\"]).reshape(1,-1)).reshape(-1,1)\n",
    "normal_ozellikler=[\"math score\",\"norm_math score\",\"reading score\",\"norm_reading score\",\n",
    "                    \"writing score\",\"norm_writing score\"]\n",
    "\n",
    "\n",
    "print('Minimum Değer\\n-----------------',)\n",
    "print(student_performance[normal_ozellikler].min())\n",
    "print('\\nMaksimum Değer\\n-----------------',)\n",
    "print(student_performance[normal_ozellikler].max())"
   ]
  },
  {
   "cell_type": "code",
   "execution_count": 16,
   "metadata": {
    "scrolled": true
   },
   "outputs": [
    {
     "name": "stdout",
     "output_type": "stream",
     "text": [
      "math score              15.16308\n",
      "olcekli_math score       1.00050\n",
      "reading score           14.60019\n",
      "olcekli_reading score    1.00050\n",
      "writing score           15.19566\n",
      "olcekli_writing score    1.00050\n",
      "dtype: float64\n",
      "\n",
      "Ortalamalar\n",
      "-----------------\n",
      "math score              66.08900\n",
      "olcekli_math score       0.00000\n",
      "reading score           69.16900\n",
      "olcekli_reading score    0.00000\n",
      "writing score           68.05400\n",
      "olcekli_writing score   -0.00000\n",
      "dtype: float64\n"
     ]
    }
   ],
   "source": [
    "#2.Standartlaştırma, bir değişkenin, ortalaması 0 ve standart sapması 1 olacak şekilde yeniden ölçeklendirilmesidir. Standartlaştırmada değişken için maksimum değer uygulamadığımıza dikkat edin. Standartlaştırmayı uygulamak için,\n",
    "#SKLearn kütüphanesinin' preprocessing modülünden .scale() metodunu kullanacağız.\n",
    "\n",
    "\n",
    "from sklearn.preprocessing import scale\n",
    "\n",
    "student_performance[\"olcekli_math score\"] = scale(student_performance[\"math score\"])\n",
    "student_performance[\"olcekli_reading score\"] = scale(student_performance[\"reading score\"])\n",
    "student_performance[\"olcekli_writing score\"] = scale(student_performance[\"writing score\"])\n",
    "olcekli_ozellikler=[\"math score\",\"olcekli_math score\",\"reading score\",\n",
    "                    \"olcekli_reading score\",\"writing score\", \"olcekli_writing score\"]\n",
    "print(student_performance[olcekli_ozellikler].std())\n",
    "print('\\nOrtalamalar\\n-----------------',)\n",
    "print(student_performance[olcekli_ozellikler].mean())"
   ]
  },
  {
   "cell_type": "code",
   "execution_count": 17,
   "metadata": {},
   "outputs": [
    {
     "data": {
      "image/png": "[encoded data removed]",
      "text/plain": [
       "<Figure size 1296x1080 with 3 Axes>"
      ]
     },
     "metadata": {
      "needs_background": "light"
     },
     "output_type": "display_data"
    }
   ],
   "source": [
    "#Dagilim grafigine tekrar bakarak normal dagilim kontrolu yapalim:\n",
    "\n",
    "plt.figure(figsize=(18,15))\n",
    "\n",
    "plt.subplot(3, 3, 1)\n",
    "plt.hist(student_performance['olcekli_math score'])\n",
    "plt.title('olcekli_math score', fontdict=baslik_font)\n",
    "    \n",
    "plt.subplot(3, 3, 2)\n",
    "plt.hist(student_performance['olcekli_reading score'])\n",
    "plt.title('olcekli_reading score', fontdict=baslik_font)\n",
    "    \n",
    "plt.subplot(3, 3, 3)\n",
    "plt.hist(student_performance['olcekli_writing score'])\n",
    "plt.title('olcekli_writing score', fontdict=baslik_font)\n",
    "\n",
    "plt.show()"
   ]
  },
  {
   "cell_type": "markdown",
   "metadata": {},
   "source": [
    "Ortalamasi 0 ve standart sapmasi 1 olarak verilerimiz normal dagilima uydu. "
   ]
  },
  {
   "cell_type": "markdown",
   "metadata": {},
   "source": []
  },
  {
   "cell_type": "markdown",
   "metadata": {},
   "source": [
    "2.Üç sınav sonucunu tek bir değişkende, hedef değişkeni olarak tutmak istiyoruz. Bunun için üç sınavın ortalamasını içeren yeni bir değişken tanımlayın. Bu yeni değişkenin ortalamasının normal dağılımlı olup olmadığını test edin. Eğer normal dağılıma sahip değilse dönüşüm yaparak normal dağılımlı hale getirmeye çalışın ve dönüşümün sonucunu test edin.\n"
   ]
  },
  {
   "cell_type": "code",
   "execution_count": 9,
   "metadata": {},
   "outputs": [],
   "source": [
    "student_performance['hedef_degisken'] = (student_performance[\"math score\"] + student_performance[\"reading score\"]+ student_performance[\"writing score\"])/3\n",
    "hedef_degisken = student_performance[ 'hedef_degisken']\n"
   ]
  },
  {
   "cell_type": "code",
   "execution_count": 13,
   "metadata": {},
   "outputs": [
    {
     "data": {
      "text/plain": [
       "1000"
      ]
     },
     "execution_count": 13,
     "metadata": {},
     "output_type": "execute_result"
    }
   ],
   "source": [
    "hedef_degisken.isnull().count()"
   ]
  },
  {
   "cell_type": "code",
   "execution_count": 11,
   "metadata": {},
   "outputs": [
    {
     "data": {
      "text/plain": [
       "Text(0.5, 1.0, 'hedef_degisken')"
      ]
     },
     "execution_count": 11,
     "metadata": {},
     "output_type": "execute_result"
    },
    {
     "data": {
      "image/png": "[encoded data removed]",
      "text/plain": [
       "<Figure size 432x288 with 1 Axes>"
      ]
     },
     "metadata": {
      "needs_background": "light"
     },
     "output_type": "display_data"
    }
   ],
   "source": [
    "plt.hist( hedef_degisken)\n",
    "plt.title('hedef_degisken', fontdict=baslik_font)"
   ]
  },
  {
   "cell_type": "markdown",
   "metadata": {},
   "source": [
    "Degisken normal dagilima sahip."
   ]
  },
  {
   "cell_type": "markdown",
   "metadata": {},
   "source": [
    "3.Bir önceki soruda oluşturduğumuz hedef değişkeni ile hangi değişkenler ilişkili görünüyor? Eğer amacımız sınav başarısını belirleyen etkenleri açıklamak olsaydı hangi değişkenleri veri kümemizde tutmamız gerekirdi?"
   ]
  },
  {
   "cell_type": "code",
   "execution_count": 36,
   "metadata": {},
   "outputs": [],
   "source": [
    "my_list = ['hedef_degisken']\n",
    "\n",
    "\n",
    "df = pd.DataFrame(np.array(my_list))"
   ]
  },
  {
   "cell_type": "code",
   "execution_count": 37,
   "metadata": {},
   "outputs": [
    {
     "data": {
      "text/html": [
       "<div>\n",
       "<style scoped>\n",
       "    .dataframe tbody tr th:only-of-type {\n",
       "        vertical-align: middle;\n",
       "    }\n",
       "\n",
       "    .dataframe tbody tr th {\n",
       "        vertical-align: top;\n",
       "    }\n",
       "\n",
       "    .dataframe thead th {\n",
       "        text-align: right;\n",
       "    }\n",
       "</style>\n",
       "<table border=\"1\" class=\"dataframe\">\n",
       "  <thead>\n",
       "    <tr style=\"text-align: right;\">\n",
       "      <th></th>\n",
       "    </tr>\n",
       "  </thead>\n",
       "  <tbody>\n",
       "  </tbody>\n",
       "</table>\n",
       "</div>"
      ],
      "text/plain": [
       "Empty DataFrame\n",
       "Columns: []\n",
       "Index: []"
      ]
     },
     "execution_count": 37,
     "metadata": {},
     "output_type": "execute_result"
    }
   ],
   "source": [
    "df.corr()"
   ]
  },
  {
   "cell_type": "code",
   "execution_count": null,
   "metadata": {},
   "outputs": [],
   "source": []
  }
 ],
 "metadata": {
  "kernelspec": {
   "display_name": "Python 3",
   "language": "python",
   "name": "python3"
  },
  "language_info": {
   "codemirror_mode": {
    "name": "ipython",
    "version": 3
   },
   "file_extension": ".py",
   "mimetype": "text/x-python",
   "name": "python",
   "nbconvert_exporter": "python",
   "pygments_lexer": "ipython3",
   "version": "3.7.2"
  }
 },
 "nbformat": 4,
 "nbformat_minor": 2
}
